{
 "cells": [
  {
   "cell_type": "code",
   "execution_count": 61,
   "metadata": {},
   "outputs": [],
   "source": [
    "import numpy as np"
   ]
  },
  {
   "cell_type": "code",
   "execution_count": 62,
   "metadata": {},
   "outputs": [
    {
     "name": "stdout",
     "output_type": "stream",
     "text": [
      "[1 2 3]\n",
      "[1 2 3]\n",
      "[1 2 3]\n",
      "[1 2 3 4 5 6]\n"
     ]
    }
   ],
   "source": [
    "arr = np.array([1,2,3])\n",
    "\n",
    "x=arr.copy()\n",
    "y=arr.view()\n",
    "\n",
    "print(arr)\n",
    "\n",
    "print(x)\n",
    "#copia de la instancia original\n",
    "print(y)\n",
    "#vista en tiempo real sin poder editarlo\n",
    "\n",
    "arr1=np.array([1,2,3])\n",
    "arr2=np.array([4,5,6])\n",
    "suma=np.concatenate((arr1,arr2))\n",
    "print(suma)\n",
    "#concatenar"
   ]
  },
  {
   "cell_type": "code",
   "execution_count": 63,
   "metadata": {},
   "outputs": [
    {
     "name": "stdout",
     "output_type": "stream",
     "text": [
      "(array([4, 5], dtype=int64),)\n"
     ]
    }
   ],
   "source": [
    "arr=np.array([1,2,2,4,5,5,6])\n",
    "x=np.where(arr==5)\n",
    "print(x)\n",
    "#buscar"
   ]
  },
  {
   "cell_type": "code",
   "execution_count": 64,
   "metadata": {},
   "outputs": [
    {
     "name": "stdout",
     "output_type": "stream",
     "text": [
      "[1 2 3 4 5 6]\n"
     ]
    }
   ],
   "source": [
    "arr=np.array([2,3,6,4,5,1])\n",
    "x=np.sort(arr)\n",
    "print(x)\n",
    "#ordenar"
   ]
  },
  {
   "cell_type": "markdown",
   "metadata": {},
   "source": [
    "# PANDAS\n"
   ]
  },
  {
   "cell_type": "code",
   "execution_count": 65,
   "metadata": {},
   "outputs": [
    {
     "name": "stdout",
     "output_type": "stream",
     "text": [
      "Requirement already satisfied: pandas in c:\\users\\carlo\\appdata\\local\\programs\\python\\python311\\lib\\site-packages (2.0.3)\n",
      "Requirement already satisfied: python-dateutil>=2.8.2 in c:\\users\\carlo\\appdata\\roaming\\python\\python311\\site-packages (from pandas) (2.8.2)\n",
      "Requirement already satisfied: pytz>=2020.1 in c:\\users\\carlo\\appdata\\local\\programs\\python\\python311\\lib\\site-packages (from pandas) (2023.3)\n",
      "Requirement already satisfied: tzdata>=2022.1 in c:\\users\\carlo\\appdata\\local\\programs\\python\\python311\\lib\\site-packages (from pandas) (2023.3)\n",
      "Requirement already satisfied: numpy>=1.21.0 in c:\\users\\carlo\\appdata\\local\\programs\\python\\python311\\lib\\site-packages (from pandas) (1.25.0)\n",
      "Requirement already satisfied: six>=1.5 in c:\\users\\carlo\\appdata\\roaming\\python\\python311\\site-packages (from python-dateutil>=2.8.2->pandas) (1.16.0)\n",
      "Note: you may need to restart the kernel to use updated packages.\n"
     ]
    },
    {
     "name": "stderr",
     "output_type": "stream",
     "text": [
      "\n",
      "[notice] A new release of pip available: 22.3.1 -> 23.1.2\n",
      "[notice] To update, run: python.exe -m pip install --upgrade pip\n"
     ]
    }
   ],
   "source": [
    "pip install pandas"
   ]
  },
  {
   "cell_type": "code",
   "execution_count": 66,
   "metadata": {},
   "outputs": [],
   "source": [
    "import pandas as pd"
   ]
  },
  {
   "cell_type": "code",
   "execution_count": 67,
   "metadata": {},
   "outputs": [
    {
     "name": "stdout",
     "output_type": "stream",
     "text": [
      "0    1\n",
      "1    2\n",
      "2    3\n",
      "dtype: int32\n"
     ]
    }
   ],
   "source": [
    "a = np.array([1,2,3])\n",
    "\n",
    "sre=pd.Series(a)\n",
    "\n",
    "print(sre)"
   ]
  },
  {
   "cell_type": "code",
   "execution_count": 68,
   "metadata": {},
   "outputs": [
    {
     "name": "stdout",
     "output_type": "stream",
     "text": [
      "x    1\n",
      "y    2\n",
      "z    3\n",
      "dtype: int32\n",
      "1\n"
     ]
    }
   ],
   "source": [
    "srs=pd.Series(a,index = [\"x\",\"y\",\"z\"])\n",
    "\n",
    "print(srs)\n",
    "print(srs[\"x\"])"
   ]
  },
  {
   "cell_type": "code",
   "execution_count": 69,
   "metadata": {},
   "outputs": [
    {
     "name": "stdout",
     "output_type": "stream",
     "text": [
      "lunes         440\n",
      "martes       2300\n",
      "miercoles    4440\n",
      "jueves        660\n",
      "viernes       210\n",
      "dtype: int64\n"
     ]
    }
   ],
   "source": [
    "pasos={\n",
    "    \"lunes\":440,\n",
    "    \"martes\":2300,\n",
    "    \"miercoles\":4440,\n",
    "    \"jueves\":660,\n",
    "    \"viernes\":210,\n",
    "}\n",
    "\n",
    "srs=pd.Series(pasos)\n",
    "\n",
    "print(srs)"
   ]
  },
  {
   "cell_type": "code",
   "execution_count": 70,
   "metadata": {},
   "outputs": [
    {
     "name": "stdout",
     "output_type": "stream",
     "text": [
      "lunes         440\n",
      "miercoles    4440\n",
      "viernes       210\n",
      "dtype: int64\n"
     ]
    }
   ],
   "source": [
    "srs=pd.Series(pasos, index=[\"lunes\",\"miercoles\",\"viernes\"])\n",
    "\n",
    "print(srs)"
   ]
  },
  {
   "cell_type": "code",
   "execution_count": 71,
   "metadata": {},
   "outputs": [
    {
     "name": "stdout",
     "output_type": "stream",
     "text": [
      "      operador  no. reloj\n",
      "0     John Doe        102\n",
      "1        Sr. x        103\n",
      "2  Lorem ipsum        104\n"
     ]
    }
   ],
   "source": [
    "myDataSet = {\n",
    "    \"operador\":[\"John Doe\",\"Sr. x\", \"Lorem ipsum\"],\n",
    "    \"no. reloj\":[102,103,104]\n",
    "}\n",
    "\n",
    "df = pd.DataFrame(myDataSet)\n",
    "\n",
    "print(df)"
   ]
  },
  {
   "cell_type": "code",
   "execution_count": 72,
   "metadata": {},
   "outputs": [
    {
     "data": {
      "text/plain": [
       "0    102\n",
       "1    103\n",
       "2    104\n",
       "Name: no. reloj, dtype: int64"
      ]
     },
     "execution_count": 72,
     "metadata": {},
     "output_type": "execute_result"
    }
   ],
   "source": [
    "df[\"no. reloj\"]"
   ]
  },
  {
   "cell_type": "code",
   "execution_count": 73,
   "metadata": {},
   "outputs": [
    {
     "data": {
      "text/html": [
       "<div>\n",
       "<style scoped>\n",
       "    .dataframe tbody tr th:only-of-type {\n",
       "        vertical-align: middle;\n",
       "    }\n",
       "\n",
       "    .dataframe tbody tr th {\n",
       "        vertical-align: top;\n",
       "    }\n",
       "\n",
       "    .dataframe thead th {\n",
       "        text-align: right;\n",
       "    }\n",
       "</style>\n",
       "<table border=\"1\" class=\"dataframe\">\n",
       "  <thead>\n",
       "    <tr style=\"text-align: right;\">\n",
       "      <th></th>\n",
       "      <th>operador</th>\n",
       "      <th>no. reloj</th>\n",
       "    </tr>\n",
       "  </thead>\n",
       "  <tbody>\n",
       "    <tr>\n",
       "      <th>1</th>\n",
       "      <td>Sr. x</td>\n",
       "      <td>103</td>\n",
       "    </tr>\n",
       "    <tr>\n",
       "      <th>2</th>\n",
       "      <td>Lorem ipsum</td>\n",
       "      <td>104</td>\n",
       "    </tr>\n",
       "  </tbody>\n",
       "</table>\n",
       "</div>"
      ],
      "text/plain": [
       "      operador  no. reloj\n",
       "1        Sr. x        103\n",
       "2  Lorem ipsum        104"
      ]
     },
     "execution_count": 73,
     "metadata": {},
     "output_type": "execute_result"
    }
   ],
   "source": [
    "df[df[\"no. reloj\"]>102]"
   ]
  },
  {
   "cell_type": "code",
   "execution_count": 74,
   "metadata": {},
   "outputs": [],
   "source": [
    "df[\"asistencia\"]=[True,False,True]"
   ]
  },
  {
   "cell_type": "code",
   "execution_count": 75,
   "metadata": {},
   "outputs": [
    {
     "name": "stdout",
     "output_type": "stream",
     "text": [
      "      operador  no. reloj  asistencia\n",
      "0     John Doe        102        True\n",
      "1        Sr. x        103       False\n",
      "2  Lorem ipsum        104        True\n"
     ]
    }
   ],
   "source": [
    "print(df)"
   ]
  },
  {
   "cell_type": "code",
   "execution_count": 76,
   "metadata": {},
   "outputs": [
    {
     "name": "stdout",
     "output_type": "stream",
     "text": [
      "operador      John Doe\n",
      "no. reloj          102\n",
      "asistencia        True\n",
      "Name: 0, dtype: object\n"
     ]
    }
   ],
   "source": [
    "print(df.loc[0])"
   ]
  },
  {
   "cell_type": "code",
   "execution_count": 77,
   "metadata": {},
   "outputs": [
    {
     "name": "stdout",
     "output_type": "stream",
     "text": [
      "   operador  no. reloj  asistencia\n",
      "0  John Doe        102        True\n",
      "1     Sr. x        103       False\n"
     ]
    }
   ],
   "source": [
    "print(df.loc[[0,1]])"
   ]
  },
  {
   "cell_type": "code",
   "execution_count": 78,
   "metadata": {},
   "outputs": [
    {
     "name": "stdout",
     "output_type": "stream",
     "text": [
      "        operador  no. reloj\n",
      "CEO     John Doe        102\n",
      "COO        Sr. x        103\n",
      "CFO  Lorem ipsum        104\n"
     ]
    }
   ],
   "source": [
    "df = pd.DataFrame(myDataSet, index = [\"CEO\",\"COO\",\"CFO\"])\n",
    "print(df)"
   ]
  },
  {
   "cell_type": "code",
   "execution_count": 79,
   "metadata": {},
   "outputs": [
    {
     "data": {
      "text/html": [
       "<div>\n",
       "<style scoped>\n",
       "    .dataframe tbody tr th:only-of-type {\n",
       "        vertical-align: middle;\n",
       "    }\n",
       "\n",
       "    .dataframe tbody tr th {\n",
       "        vertical-align: top;\n",
       "    }\n",
       "\n",
       "    .dataframe thead th {\n",
       "        text-align: right;\n",
       "    }\n",
       "</style>\n",
       "<table border=\"1\" class=\"dataframe\">\n",
       "  <thead>\n",
       "    <tr style=\"text-align: right;\">\n",
       "      <th></th>\n",
       "      <th>Marca temporal</th>\n",
       "      <th>1.- ¿De dónde eres?</th>\n",
       "      <th>2.- ¿Cuántos años tienes?</th>\n",
       "      <th>3.- ¿Estudias?</th>\n",
       "      <th>4.- ¿Trabajas?</th>\n",
       "      <th>5.- ¿Cuál es tu nivel de conocimiento en Python?</th>\n",
       "      <th>6.- ¿Qué tema relacionado con Python te gustaría aprender?</th>\n",
       "      <th>7.- ¿Has participado en algún curso anteriormente en el IA Center?</th>\n",
       "      <th>8.- ¿Cuál es tu canción favorita?</th>\n",
       "    </tr>\n",
       "  </thead>\n",
       "  <tbody>\n",
       "    <tr>\n",
       "      <th>0</th>\n",
       "      <td>2023/06/27 7:42:12 p. m. GMT-6</td>\n",
       "      <td>Cd. Juárez</td>\n",
       "      <td>Entre 21 y 24</td>\n",
       "      <td>Sí</td>\n",
       "      <td>No</td>\n",
       "      <td>Básico</td>\n",
       "      <td>Manejar bases de datos</td>\n",
       "      <td>No</td>\n",
       "      <td>The Wolf</td>\n",
       "    </tr>\n",
       "    <tr>\n",
       "      <th>1</th>\n",
       "      <td>2023/06/27 7:42:28 p. m. GMT-6</td>\n",
       "      <td>chihuahua, chihuahua</td>\n",
       "      <td>Entre 21 y 24</td>\n",
       "      <td>Sí</td>\n",
       "      <td>Sí</td>\n",
       "      <td>Básico</td>\n",
       "      <td>machine lerning</td>\n",
       "      <td>Sí</td>\n",
       "      <td>eternity, anyma</td>\n",
       "    </tr>\n",
       "    <tr>\n",
       "      <th>2</th>\n",
       "      <td>2023/06/27 7:42:44 p. m. GMT-6</td>\n",
       "      <td>Chihuahua Chihuahua</td>\n",
       "      <td>Entre 18 y 20</td>\n",
       "      <td>Sí</td>\n",
       "      <td>Sí</td>\n",
       "      <td>Básico</td>\n",
       "      <td>Automatización y creación de apps/páginas web</td>\n",
       "      <td>No</td>\n",
       "      <td>Cornerstone- Arctic Monkeys :)</td>\n",
       "    </tr>\n",
       "    <tr>\n",
       "      <th>3</th>\n",
       "      <td>2023/06/27 7:42:52 p. m. GMT-6</td>\n",
       "      <td>Chihuahua Chihuahua</td>\n",
       "      <td>Entre 21 y 24</td>\n",
       "      <td>Sí</td>\n",
       "      <td>Sí</td>\n",
       "      <td>Básico</td>\n",
       "      <td>Análisis de datos</td>\n",
       "      <td>Sí</td>\n",
       "      <td>Sea Gets Hotter</td>\n",
       "    </tr>\n",
       "    <tr>\n",
       "      <th>4</th>\n",
       "      <td>2023/06/27 7:42:56 p. m. GMT-6</td>\n",
       "      <td>Chihuahua, Chih.</td>\n",
       "      <td>Más de 30</td>\n",
       "      <td>No</td>\n",
       "      <td>Sí</td>\n",
       "      <td>Básico</td>\n",
       "      <td>Conocer más librerias</td>\n",
       "      <td>Sí</td>\n",
       "      <td>Love Me More, de Sam Smith</td>\n",
       "    </tr>\n",
       "    <tr>\n",
       "      <th>5</th>\n",
       "      <td>2023/06/27 7:42:57 p. m. GMT-6</td>\n",
       "      <td>Puebla</td>\n",
       "      <td>Entre 21 y 24</td>\n",
       "      <td>Sí</td>\n",
       "      <td>Sí</td>\n",
       "      <td>Básico</td>\n",
       "      <td>APIS y data science</td>\n",
       "      <td>No</td>\n",
       "      <td>Fireflight - Unbreakable</td>\n",
       "    </tr>\n",
       "    <tr>\n",
       "      <th>6</th>\n",
       "      <td>2023/06/27 7:42:57 p. m. GMT-6</td>\n",
       "      <td>Cd. Juarez Chih</td>\n",
       "      <td>Más de 30</td>\n",
       "      <td>No</td>\n",
       "      <td>Sí</td>\n",
       "      <td>Intermedio</td>\n",
       "      <td>Analisis de Datos</td>\n",
       "      <td>Sí</td>\n",
       "      <td>Instrumental General</td>\n",
       "    </tr>\n",
       "    <tr>\n",
       "      <th>7</th>\n",
       "      <td>2023/06/27 7:43:04 p. m. GMT-6</td>\n",
       "      <td>Ciudad Juarez</td>\n",
       "      <td>Entre 21 y 24</td>\n",
       "      <td>Sí</td>\n",
       "      <td>Sí</td>\n",
       "      <td>Básico</td>\n",
       "      <td>Ciencia de datos</td>\n",
       "      <td>Sí</td>\n",
       "      <td>La bruja de Marco Flores</td>\n",
       "    </tr>\n",
       "    <tr>\n",
       "      <th>8</th>\n",
       "      <td>2023/06/27 7:43:10 p. m. GMT-6</td>\n",
       "      <td>Aguascalientes</td>\n",
       "      <td>Entre 18 y 20</td>\n",
       "      <td>Sí</td>\n",
       "      <td>No</td>\n",
       "      <td>Básico</td>\n",
       "      <td>Me gustaria aprender un poco de todo, pero mas...</td>\n",
       "      <td>No</td>\n",
       "      <td>Canela-Nanpa Basico</td>\n",
       "    </tr>\n",
       "    <tr>\n",
       "      <th>9</th>\n",
       "      <td>2023/06/27 7:43:12 p. m. GMT-6</td>\n",
       "      <td>Cd Juarez, Chih.</td>\n",
       "      <td>Entre 21 y 24</td>\n",
       "      <td>Sí</td>\n",
       "      <td>No</td>\n",
       "      <td>Básico</td>\n",
       "      <td>No tengo un tema en especifico, solo deseo rep...</td>\n",
       "      <td>Sí</td>\n",
       "      <td>Depende del momento hy del día, ahora es Hielo...</td>\n",
       "    </tr>\n",
       "    <tr>\n",
       "      <th>10</th>\n",
       "      <td>2023/06/27 7:43:12 p. m. GMT-6</td>\n",
       "      <td>Juárez</td>\n",
       "      <td>Entre 21 y 24</td>\n",
       "      <td>Sí</td>\n",
       "      <td>Sí</td>\n",
       "      <td>Básico</td>\n",
       "      <td>Análisis de datos</td>\n",
       "      <td>No</td>\n",
       "      <td>No tengo:(</td>\n",
       "    </tr>\n",
       "    <tr>\n",
       "      <th>11</th>\n",
       "      <td>2023/06/27 7:43:16 p. m. GMT-6</td>\n",
       "      <td>El Paso TX</td>\n",
       "      <td>Entre 18 y 20</td>\n",
       "      <td>Sí</td>\n",
       "      <td>No</td>\n",
       "      <td>Básico</td>\n",
       "      <td>POO</td>\n",
       "      <td>No</td>\n",
       "      <td>The Words I Never Said / Mage</td>\n",
       "    </tr>\n",
       "    <tr>\n",
       "      <th>12</th>\n",
       "      <td>2023/06/27 7:43:16 p. m. GMT-6</td>\n",
       "      <td>Cuauhtemoc Chihuahua</td>\n",
       "      <td>Más de 30</td>\n",
       "      <td>No</td>\n",
       "      <td>Sí</td>\n",
       "      <td>Intermedio</td>\n",
       "      <td>Web y análisis de datos</td>\n",
       "      <td>No</td>\n",
       "      <td>Dust in the wind</td>\n",
       "    </tr>\n",
       "    <tr>\n",
       "      <th>13</th>\n",
       "      <td>2023/06/27 7:43:29 p. m. GMT-6</td>\n",
       "      <td>Cd. Juárez</td>\n",
       "      <td>Entre 21 y 24</td>\n",
       "      <td>Sí</td>\n",
       "      <td>Sí</td>\n",
       "      <td>Básico</td>\n",
       "      <td>Flujos de trabajo, análisis de datos, análisis...</td>\n",
       "      <td>Sí</td>\n",
       "      <td>Manto estelar - Moenia</td>\n",
       "    </tr>\n",
       "    <tr>\n",
       "      <th>14</th>\n",
       "      <td>2023/06/27 7:43:34 p. m. GMT-6</td>\n",
       "      <td>Hidalgo</td>\n",
       "      <td>Entre 25 y 29</td>\n",
       "      <td>Sí</td>\n",
       "      <td>Sí</td>\n",
       "      <td>Básico</td>\n",
       "      <td>Deep learning</td>\n",
       "      <td>No</td>\n",
       "      <td>Todas</td>\n",
       "    </tr>\n",
       "    <tr>\n",
       "      <th>15</th>\n",
       "      <td>2023/06/27 7:43:50 p. m. GMT-6</td>\n",
       "      <td>Cd. Juarez, Chih.</td>\n",
       "      <td>Entre 21 y 24</td>\n",
       "      <td>Sí</td>\n",
       "      <td>Sí</td>\n",
       "      <td>Básico</td>\n",
       "      <td>Programación orientada a objetos (POO)</td>\n",
       "      <td>Sí</td>\n",
       "      <td>Skillet-Comatose y Whisper in the Dark</td>\n",
       "    </tr>\n",
       "    <tr>\n",
       "      <th>16</th>\n",
       "      <td>2023/06/27 7:44:01 p. m. GMT-6</td>\n",
       "      <td>Cd. Juarez Chihuahua</td>\n",
       "      <td>Más de 30</td>\n",
       "      <td>No</td>\n",
       "      <td>Sí</td>\n",
       "      <td>Básico</td>\n",
       "      <td>un poco de todo para irme familiarizandome a l...</td>\n",
       "      <td>Sí</td>\n",
       "      <td>el hada y el mago de reta blancha</td>\n",
       "    </tr>\n",
       "    <tr>\n",
       "      <th>17</th>\n",
       "      <td>2023/06/27 7:44:01 p. m. GMT-6</td>\n",
       "      <td>Ciudad Juarez Chihuahua Mexico</td>\n",
       "      <td>Entre 21 y 24</td>\n",
       "      <td>No</td>\n",
       "      <td>No</td>\n",
       "      <td>Básico</td>\n",
       "      <td>API y IA</td>\n",
       "      <td>Sí</td>\n",
       "      <td>https://youtu.be/dQw4w9WgXcQ y https://youtu.b...</td>\n",
       "    </tr>\n",
       "    <tr>\n",
       "      <th>18</th>\n",
       "      <td>2023/06/27 7:44:12 p. m. GMT-6</td>\n",
       "      <td>Ciudad Juarez</td>\n",
       "      <td>Más de 30</td>\n",
       "      <td>Sí</td>\n",
       "      <td>No</td>\n",
       "      <td>Básico</td>\n",
       "      <td>Web Scrapping y limpieza de conjuntos de datos</td>\n",
       "      <td>Sí</td>\n",
       "      <td>Hotel California</td>\n",
       "    </tr>\n",
       "    <tr>\n",
       "      <th>19</th>\n",
       "      <td>2023/06/27 7:44:14 p. m. GMT-6</td>\n",
       "      <td>Chihuahua, Chih.</td>\n",
       "      <td>Más de 30</td>\n",
       "      <td>No</td>\n",
       "      <td>Sí</td>\n",
       "      <td>Básico</td>\n",
       "      <td>análisis de datos</td>\n",
       "      <td>Sí</td>\n",
       "      <td>no tengo canción favorita, prácticamente no es...</td>\n",
       "    </tr>\n",
       "    <tr>\n",
       "      <th>20</th>\n",
       "      <td>2023/06/27 7:44:17 p. m. GMT-6</td>\n",
       "      <td>Ciudad Juarez</td>\n",
       "      <td>Entre 18 y 20</td>\n",
       "      <td>Sí</td>\n",
       "      <td>No</td>\n",
       "      <td>Básico</td>\n",
       "      <td>Analisis de datos y su uso para desarrollo web</td>\n",
       "      <td>No</td>\n",
       "      <td>Burn My Dread - Persona 3</td>\n",
       "    </tr>\n",
       "    <tr>\n",
       "      <th>21</th>\n",
       "      <td>2023/06/27 7:44:20 p. m. GMT-6</td>\n",
       "      <td>Cd Juárez Chihuahua, México.</td>\n",
       "      <td>Más de 30</td>\n",
       "      <td>No</td>\n",
       "      <td>Sí</td>\n",
       "      <td>Básico</td>\n",
       "      <td>Ciencia de Datos, y API`s y Todo lo de Python</td>\n",
       "      <td>Sí</td>\n",
       "      <td>....</td>\n",
       "    </tr>\n",
       "    <tr>\n",
       "      <th>22</th>\n",
       "      <td>2023/06/27 7:44:25 p. m. GMT-6</td>\n",
       "      <td>Ciudad Juárez</td>\n",
       "      <td>Más de 30</td>\n",
       "      <td>No</td>\n",
       "      <td>Sí</td>\n",
       "      <td>Básico</td>\n",
       "      <td>recolección, limpieza y visualización de datos</td>\n",
       "      <td>Sí</td>\n",
       "      <td>Todo cuenta</td>\n",
       "    </tr>\n",
       "    <tr>\n",
       "      <th>23</th>\n",
       "      <td>2023/06/27 7:44:30 p. m. GMT-6</td>\n",
       "      <td>Cd. Juárez</td>\n",
       "      <td>Entre 25 y 29</td>\n",
       "      <td>Sí</td>\n",
       "      <td>No</td>\n",
       "      <td>Básico</td>\n",
       "      <td>Ciencia de datos</td>\n",
       "      <td>Sí</td>\n",
       "      <td>Chosen - Maneskin</td>\n",
       "    </tr>\n",
       "    <tr>\n",
       "      <th>24</th>\n",
       "      <td>2023/06/27 7:44:31 p. m. GMT-6</td>\n",
       "      <td>Juarez</td>\n",
       "      <td>Entre 25 y 29</td>\n",
       "      <td>Sí</td>\n",
       "      <td>Sí</td>\n",
       "      <td>Básico</td>\n",
       "      <td>Como hacer una interfaz para poder hacer un pr...</td>\n",
       "      <td>Sí</td>\n",
       "      <td>God's Plan- Drake</td>\n",
       "    </tr>\n",
       "    <tr>\n",
       "      <th>25</th>\n",
       "      <td>2023/06/27 7:45:04 p. m. GMT-6</td>\n",
       "      <td>Cd. Juárez, Chihuahua</td>\n",
       "      <td>Entre 18 y 20</td>\n",
       "      <td>Sí</td>\n",
       "      <td>No</td>\n",
       "      <td>Nunca he utilizado Python</td>\n",
       "      <td>Programación para uso academico</td>\n",
       "      <td>No</td>\n",
       "      <td>A man without love - Engelbert Humperdinck</td>\n",
       "    </tr>\n",
       "    <tr>\n",
       "      <th>26</th>\n",
       "      <td>2023/06/27 7:45:37 p. m. GMT-6</td>\n",
       "      <td>Aguascalientes</td>\n",
       "      <td>Entre 21 y 24</td>\n",
       "      <td>Sí</td>\n",
       "      <td>No</td>\n",
       "      <td>Intermedio</td>\n",
       "      <td>un poco de inteligencia artificial</td>\n",
       "      <td>No</td>\n",
       "      <td>Love of my life</td>\n",
       "    </tr>\n",
       "    <tr>\n",
       "      <th>27</th>\n",
       "      <td>2023/06/27 7:45:45 p. m. GMT-6</td>\n",
       "      <td>Cd. Juarez</td>\n",
       "      <td>Entre 15 y 17</td>\n",
       "      <td>Sí</td>\n",
       "      <td>No</td>\n",
       "      <td>Básico</td>\n",
       "      <td>Bucles</td>\n",
       "      <td>Sí</td>\n",
       "      <td>Jorge Drexler - El Plan Maestro</td>\n",
       "    </tr>\n",
       "    <tr>\n",
       "      <th>28</th>\n",
       "      <td>2023/06/27 7:46:10 p. m. GMT-6</td>\n",
       "      <td>San Francisco de los Romo, Aguascalientes</td>\n",
       "      <td>Entre 18 y 20</td>\n",
       "      <td>Sí</td>\n",
       "      <td>No</td>\n",
       "      <td>Básico</td>\n",
       "      <td>Librerias con aplicaciones en el mundo de las ...</td>\n",
       "      <td>No</td>\n",
       "      <td>Inolvidable - Luis Miguel</td>\n",
       "    </tr>\n",
       "    <tr>\n",
       "      <th>29</th>\n",
       "      <td>2023/06/27 7:46:14 p. m. GMT-6</td>\n",
       "      <td>Chihuahua</td>\n",
       "      <td>Entre 18 y 20</td>\n",
       "      <td>Sí</td>\n",
       "      <td>Sí</td>\n",
       "      <td>Básico</td>\n",
       "      <td>desarrollo</td>\n",
       "      <td>No</td>\n",
       "      <td>Last Call</td>\n",
       "    </tr>\n",
       "    <tr>\n",
       "      <th>30</th>\n",
       "      <td>2023/06/27 7:46:28 p. m. GMT-6</td>\n",
       "      <td>Ciudad Juárez</td>\n",
       "      <td>Entre 21 y 24</td>\n",
       "      <td>Sí</td>\n",
       "      <td>No</td>\n",
       "      <td>Básico</td>\n",
       "      <td>Procesamiento de datos</td>\n",
       "      <td>Sí</td>\n",
       "      <td>Lacrimosa- Matt Kent, Amber Dawn</td>\n",
       "    </tr>\n",
       "    <tr>\n",
       "      <th>31</th>\n",
       "      <td>2023/06/27 7:46:32 p. m. GMT-6</td>\n",
       "      <td>Zacatecas</td>\n",
       "      <td>Entre 25 y 29</td>\n",
       "      <td>Sí</td>\n",
       "      <td>Sí</td>\n",
       "      <td>Básico</td>\n",
       "      <td>Apis</td>\n",
       "      <td>Sí</td>\n",
       "      <td>All the small things</td>\n",
       "    </tr>\n",
       "    <tr>\n",
       "      <th>32</th>\n",
       "      <td>2023/06/27 7:46:37 p. m. GMT-6</td>\n",
       "      <td>Ciudad Juarez</td>\n",
       "      <td>Entre 21 y 24</td>\n",
       "      <td>Sí</td>\n",
       "      <td>Sí</td>\n",
       "      <td>Básico</td>\n",
       "      <td>MachineLearning</td>\n",
       "      <td>No</td>\n",
       "      <td>Like I Love You - Justin Timberlake</td>\n",
       "    </tr>\n",
       "    <tr>\n",
       "      <th>33</th>\n",
       "      <td>2023/06/27 7:49:23 p. m. GMT-6</td>\n",
       "      <td>Ciudad Juárez</td>\n",
       "      <td>Entre 18 y 20</td>\n",
       "      <td>Sí</td>\n",
       "      <td>No</td>\n",
       "      <td>Básico</td>\n",
       "      <td>Ciencia de Datos y automatización</td>\n",
       "      <td>Sí</td>\n",
       "      <td>Cold Heart - PNAU REMIX Elton Jhon, Dua Lipa</td>\n",
       "    </tr>\n",
       "    <tr>\n",
       "      <th>34</th>\n",
       "      <td>2023/06/27 7:51:23 p. m. GMT-6</td>\n",
       "      <td>Ciudad Juarez</td>\n",
       "      <td>Entre 25 y 29</td>\n",
       "      <td>Sí</td>\n",
       "      <td>Sí</td>\n",
       "      <td>Intermedio</td>\n",
       "      <td>ciencia de datos, webscraping</td>\n",
       "      <td>Sí</td>\n",
       "      <td>Gorillaz - On Melancholy Hill</td>\n",
       "    </tr>\n",
       "    <tr>\n",
       "      <th>35</th>\n",
       "      <td>2023/06/27 7:55:00 p. m. GMT-6</td>\n",
       "      <td>Veracruz, estudio en Puebla</td>\n",
       "      <td>Entre 25 y 29</td>\n",
       "      <td>Sí</td>\n",
       "      <td>No</td>\n",
       "      <td>Básico</td>\n",
       "      <td>Lo relacionado con análisis de datos.</td>\n",
       "      <td>Sí</td>\n",
       "      <td>En este momento Los Años Maravillosos de Littl...</td>\n",
       "    </tr>\n",
       "    <tr>\n",
       "      <th>36</th>\n",
       "      <td>2023/06/27 8:05:42 p. m. GMT-6</td>\n",
       "      <td>CDMX</td>\n",
       "      <td>Entre 25 y 29</td>\n",
       "      <td>No</td>\n",
       "      <td>Sí</td>\n",
       "      <td>Básico</td>\n",
       "      <td>web scraping</td>\n",
       "      <td>No</td>\n",
       "      <td>Young Turks</td>\n",
       "    </tr>\n",
       "    <tr>\n",
       "      <th>37</th>\n",
       "      <td>2023/06/27 8:22:29 p. m. GMT-6</td>\n",
       "      <td>Estado de Mexico</td>\n",
       "      <td>Entre 21 y 24</td>\n",
       "      <td>Sí</td>\n",
       "      <td>Sí</td>\n",
       "      <td>Básico</td>\n",
       "      <td>librerias, bloques paquetes etc....</td>\n",
       "      <td>No</td>\n",
       "      <td>the weeknd- Out of time</td>\n",
       "    </tr>\n",
       "    <tr>\n",
       "      <th>38</th>\n",
       "      <td>2023/06/27 10:02:11 p. m. GMT-6</td>\n",
       "      <td>Ciudad Juarez, Chih</td>\n",
       "      <td>Entre 21 y 24</td>\n",
       "      <td>No</td>\n",
       "      <td>Sí</td>\n",
       "      <td>Básico</td>\n",
       "      <td>Analisis de datos</td>\n",
       "      <td>Sí</td>\n",
       "      <td>https://youtu.be/BGVUiMskx_U</td>\n",
       "    </tr>\n",
       "    <tr>\n",
       "      <th>39</th>\n",
       "      <td>2023/06/27 10:31:28 p. m. GMT-6</td>\n",
       "      <td>cd juarez</td>\n",
       "      <td>Entre 21 y 24</td>\n",
       "      <td>Sí</td>\n",
       "      <td>Sí</td>\n",
       "      <td>Básico</td>\n",
       "      <td>punteros</td>\n",
       "      <td>Sí</td>\n",
       "      <td>porter guiame quetzal</td>\n",
       "    </tr>\n",
       "    <tr>\n",
       "      <th>40</th>\n",
       "      <td>2023/06/28 10:12:04 p. m. GMT-6</td>\n",
       "      <td>Chihuahua</td>\n",
       "      <td>Entre 21 y 24</td>\n",
       "      <td>No</td>\n",
       "      <td>Sí</td>\n",
       "      <td>Básico</td>\n",
       "      <td>Machine Learning y Deep Learning</td>\n",
       "      <td>Sí</td>\n",
       "      <td>Runaway</td>\n",
       "    </tr>\n",
       "    <tr>\n",
       "      <th>41</th>\n",
       "      <td>2023/06/29 2:00:51 a. m. GMT-6</td>\n",
       "      <td>Vivo en Ciudad Juárez. Soy cubana</td>\n",
       "      <td>Más de 30</td>\n",
       "      <td>Sí</td>\n",
       "      <td>No</td>\n",
       "      <td>Intermedio</td>\n",
       "      <td>Cómo escribir un código de forma profesional, ...</td>\n",
       "      <td>No</td>\n",
       "      <td>Hay varias, pero últimamente escucho mucho \"Cu...</td>\n",
       "    </tr>\n",
       "    <tr>\n",
       "      <th>42</th>\n",
       "      <td>2023/07/03 1:55:24 p. m. GMT-6</td>\n",
       "      <td>Ciudad Juarez</td>\n",
       "      <td>Más de 30</td>\n",
       "      <td>No</td>\n",
       "      <td>Sí</td>\n",
       "      <td>Intermedio</td>\n",
       "      <td>Automatizacion</td>\n",
       "      <td>No</td>\n",
       "      <td>David Bowie - Heroes</td>\n",
       "    </tr>\n",
       "  </tbody>\n",
       "</table>\n",
       "</div>"
      ],
      "text/plain": [
       "                     Marca temporal  \\\n",
       "0    2023/06/27 7:42:12 p. m. GMT-6   \n",
       "1    2023/06/27 7:42:28 p. m. GMT-6   \n",
       "2    2023/06/27 7:42:44 p. m. GMT-6   \n",
       "3    2023/06/27 7:42:52 p. m. GMT-6   \n",
       "4    2023/06/27 7:42:56 p. m. GMT-6   \n",
       "5    2023/06/27 7:42:57 p. m. GMT-6   \n",
       "6    2023/06/27 7:42:57 p. m. GMT-6   \n",
       "7    2023/06/27 7:43:04 p. m. GMT-6   \n",
       "8    2023/06/27 7:43:10 p. m. GMT-6   \n",
       "9    2023/06/27 7:43:12 p. m. GMT-6   \n",
       "10   2023/06/27 7:43:12 p. m. GMT-6   \n",
       "11   2023/06/27 7:43:16 p. m. GMT-6   \n",
       "12   2023/06/27 7:43:16 p. m. GMT-6   \n",
       "13   2023/06/27 7:43:29 p. m. GMT-6   \n",
       "14   2023/06/27 7:43:34 p. m. GMT-6   \n",
       "15   2023/06/27 7:43:50 p. m. GMT-6   \n",
       "16   2023/06/27 7:44:01 p. m. GMT-6   \n",
       "17   2023/06/27 7:44:01 p. m. GMT-6   \n",
       "18   2023/06/27 7:44:12 p. m. GMT-6   \n",
       "19   2023/06/27 7:44:14 p. m. GMT-6   \n",
       "20   2023/06/27 7:44:17 p. m. GMT-6   \n",
       "21   2023/06/27 7:44:20 p. m. GMT-6   \n",
       "22   2023/06/27 7:44:25 p. m. GMT-6   \n",
       "23   2023/06/27 7:44:30 p. m. GMT-6   \n",
       "24   2023/06/27 7:44:31 p. m. GMT-6   \n",
       "25   2023/06/27 7:45:04 p. m. GMT-6   \n",
       "26   2023/06/27 7:45:37 p. m. GMT-6   \n",
       "27   2023/06/27 7:45:45 p. m. GMT-6   \n",
       "28   2023/06/27 7:46:10 p. m. GMT-6   \n",
       "29   2023/06/27 7:46:14 p. m. GMT-6   \n",
       "30   2023/06/27 7:46:28 p. m. GMT-6   \n",
       "31   2023/06/27 7:46:32 p. m. GMT-6   \n",
       "32   2023/06/27 7:46:37 p. m. GMT-6   \n",
       "33   2023/06/27 7:49:23 p. m. GMT-6   \n",
       "34   2023/06/27 7:51:23 p. m. GMT-6   \n",
       "35   2023/06/27 7:55:00 p. m. GMT-6   \n",
       "36   2023/06/27 8:05:42 p. m. GMT-6   \n",
       "37   2023/06/27 8:22:29 p. m. GMT-6   \n",
       "38  2023/06/27 10:02:11 p. m. GMT-6   \n",
       "39  2023/06/27 10:31:28 p. m. GMT-6   \n",
       "40  2023/06/28 10:12:04 p. m. GMT-6   \n",
       "41   2023/06/29 2:00:51 a. m. GMT-6   \n",
       "42   2023/07/03 1:55:24 p. m. GMT-6   \n",
       "\n",
       "                          1.- ¿De dónde eres? 2.- ¿Cuántos años tienes?  \\\n",
       "0                                  Cd. Juárez             Entre 21 y 24   \n",
       "1                        chihuahua, chihuahua             Entre 21 y 24   \n",
       "2                         Chihuahua Chihuahua             Entre 18 y 20   \n",
       "3                         Chihuahua Chihuahua             Entre 21 y 24   \n",
       "4                            Chihuahua, Chih.                 Más de 30   \n",
       "5                                      Puebla             Entre 21 y 24   \n",
       "6                             Cd. Juarez Chih                 Más de 30   \n",
       "7                               Ciudad Juarez             Entre 21 y 24   \n",
       "8                              Aguascalientes             Entre 18 y 20   \n",
       "9                            Cd Juarez, Chih.             Entre 21 y 24   \n",
       "10                                     Juárez             Entre 21 y 24   \n",
       "11                                 El Paso TX             Entre 18 y 20   \n",
       "12                       Cuauhtemoc Chihuahua                 Más de 30   \n",
       "13                                Cd. Juárez              Entre 21 y 24   \n",
       "14                                    Hidalgo             Entre 25 y 29   \n",
       "15                          Cd. Juarez, Chih.             Entre 21 y 24   \n",
       "16                       Cd. Juarez Chihuahua                 Más de 30   \n",
       "17             Ciudad Juarez Chihuahua Mexico             Entre 21 y 24   \n",
       "18                              Ciudad Juarez                 Más de 30   \n",
       "19                           Chihuahua, Chih.                 Más de 30   \n",
       "20                              Ciudad Juarez             Entre 18 y 20   \n",
       "21               Cd Juárez Chihuahua, México.                 Más de 30   \n",
       "22                              Ciudad Juárez                 Más de 30   \n",
       "23                                 Cd. Juárez             Entre 25 y 29   \n",
       "24                                     Juarez             Entre 25 y 29   \n",
       "25                     Cd. Juárez, Chihuahua              Entre 18 y 20   \n",
       "26                            Aguascalientes              Entre 21 y 24   \n",
       "27                                 Cd. Juarez             Entre 15 y 17   \n",
       "28  San Francisco de los Romo, Aguascalientes             Entre 18 y 20   \n",
       "29                                  Chihuahua             Entre 18 y 20   \n",
       "30                              Ciudad Juárez             Entre 21 y 24   \n",
       "31                                 Zacatecas              Entre 25 y 29   \n",
       "32                              Ciudad Juarez             Entre 21 y 24   \n",
       "33                              Ciudad Juárez             Entre 18 y 20   \n",
       "34                              Ciudad Juarez             Entre 25 y 29   \n",
       "35                Veracruz, estudio en Puebla             Entre 25 y 29   \n",
       "36                                       CDMX             Entre 25 y 29   \n",
       "37                           Estado de Mexico             Entre 21 y 24   \n",
       "38                        Ciudad Juarez, Chih             Entre 21 y 24   \n",
       "39                                  cd juarez             Entre 21 y 24   \n",
       "40                                  Chihuahua             Entre 21 y 24   \n",
       "41          Vivo en Ciudad Juárez. Soy cubana                 Más de 30   \n",
       "42                              Ciudad Juarez                 Más de 30   \n",
       "\n",
       "   3.- ¿Estudias? 4.- ¿Trabajas?  \\\n",
       "0              Sí             No   \n",
       "1              Sí             Sí   \n",
       "2              Sí             Sí   \n",
       "3              Sí             Sí   \n",
       "4              No             Sí   \n",
       "5              Sí             Sí   \n",
       "6              No             Sí   \n",
       "7              Sí             Sí   \n",
       "8              Sí             No   \n",
       "9              Sí             No   \n",
       "10             Sí             Sí   \n",
       "11             Sí             No   \n",
       "12             No             Sí   \n",
       "13             Sí             Sí   \n",
       "14             Sí             Sí   \n",
       "15             Sí             Sí   \n",
       "16             No             Sí   \n",
       "17             No             No   \n",
       "18             Sí             No   \n",
       "19             No             Sí   \n",
       "20             Sí             No   \n",
       "21             No             Sí   \n",
       "22             No             Sí   \n",
       "23             Sí             No   \n",
       "24             Sí             Sí   \n",
       "25             Sí             No   \n",
       "26             Sí             No   \n",
       "27             Sí             No   \n",
       "28             Sí             No   \n",
       "29             Sí             Sí   \n",
       "30             Sí             No   \n",
       "31             Sí             Sí   \n",
       "32             Sí             Sí   \n",
       "33             Sí             No   \n",
       "34             Sí             Sí   \n",
       "35             Sí             No   \n",
       "36             No             Sí   \n",
       "37             Sí             Sí   \n",
       "38             No             Sí   \n",
       "39             Sí             Sí   \n",
       "40             No             Sí   \n",
       "41             Sí             No   \n",
       "42             No             Sí   \n",
       "\n",
       "   5.- ¿Cuál es tu nivel de conocimiento en Python?  \\\n",
       "0                                            Básico   \n",
       "1                                            Básico   \n",
       "2                                            Básico   \n",
       "3                                            Básico   \n",
       "4                                            Básico   \n",
       "5                                            Básico   \n",
       "6                                        Intermedio   \n",
       "7                                            Básico   \n",
       "8                                            Básico   \n",
       "9                                            Básico   \n",
       "10                                           Básico   \n",
       "11                                           Básico   \n",
       "12                                       Intermedio   \n",
       "13                                           Básico   \n",
       "14                                           Básico   \n",
       "15                                           Básico   \n",
       "16                                           Básico   \n",
       "17                                           Básico   \n",
       "18                                           Básico   \n",
       "19                                           Básico   \n",
       "20                                           Básico   \n",
       "21                                           Básico   \n",
       "22                                           Básico   \n",
       "23                                           Básico   \n",
       "24                                           Básico   \n",
       "25                        Nunca he utilizado Python   \n",
       "26                                       Intermedio   \n",
       "27                                           Básico   \n",
       "28                                           Básico   \n",
       "29                                           Básico   \n",
       "30                                           Básico   \n",
       "31                                           Básico   \n",
       "32                                           Básico   \n",
       "33                                           Básico   \n",
       "34                                       Intermedio   \n",
       "35                                           Básico   \n",
       "36                                           Básico   \n",
       "37                                           Básico   \n",
       "38                                           Básico   \n",
       "39                                           Básico   \n",
       "40                                           Básico   \n",
       "41                                       Intermedio   \n",
       "42                                       Intermedio   \n",
       "\n",
       "   6.- ¿Qué tema relacionado con Python te gustaría aprender?  \\\n",
       "0                              Manejar bases de datos           \n",
       "1                                     machine lerning           \n",
       "2       Automatización y creación de apps/páginas web           \n",
       "3                                   Análisis de datos           \n",
       "4                               Conocer más librerias           \n",
       "5                                 APIS y data science           \n",
       "6                                   Analisis de Datos           \n",
       "7                                    Ciencia de datos           \n",
       "8   Me gustaria aprender un poco de todo, pero mas...           \n",
       "9   No tengo un tema en especifico, solo deseo rep...           \n",
       "10                                  Análisis de datos           \n",
       "11                                                POO           \n",
       "12                            Web y análisis de datos           \n",
       "13  Flujos de trabajo, análisis de datos, análisis...           \n",
       "14                                      Deep learning           \n",
       "15             Programación orientada a objetos (POO)           \n",
       "16  un poco de todo para irme familiarizandome a l...           \n",
       "17                                          API y IA            \n",
       "18     Web Scrapping y limpieza de conjuntos de datos           \n",
       "19                                  análisis de datos           \n",
       "20     Analisis de datos y su uso para desarrollo web           \n",
       "21      Ciencia de Datos, y API`s y Todo lo de Python           \n",
       "22     recolección, limpieza y visualización de datos           \n",
       "23                                   Ciencia de datos           \n",
       "24  Como hacer una interfaz para poder hacer un pr...           \n",
       "25                    Programación para uso academico           \n",
       "26                un poco de inteligencia artificial            \n",
       "27                                             Bucles           \n",
       "28  Librerias con aplicaciones en el mundo de las ...           \n",
       "29                                         desarrollo           \n",
       "30                             Procesamiento de datos           \n",
       "31                                               Apis           \n",
       "32                                    MachineLearning           \n",
       "33                  Ciencia de Datos y automatización           \n",
       "34                      ciencia de datos, webscraping           \n",
       "35              Lo relacionado con análisis de datos.           \n",
       "36                                       web scraping           \n",
       "37                librerias, bloques paquetes etc....           \n",
       "38                                  Analisis de datos           \n",
       "39                                           punteros           \n",
       "40                   Machine Learning y Deep Learning           \n",
       "41  Cómo escribir un código de forma profesional, ...           \n",
       "42                                     Automatizacion           \n",
       "\n",
       "   7.- ¿Has participado en algún curso anteriormente en el IA Center?  \\\n",
       "0                                                  No                   \n",
       "1                                                  Sí                   \n",
       "2                                                  No                   \n",
       "3                                                  Sí                   \n",
       "4                                                  Sí                   \n",
       "5                                                  No                   \n",
       "6                                                  Sí                   \n",
       "7                                                  Sí                   \n",
       "8                                                  No                   \n",
       "9                                                  Sí                   \n",
       "10                                                 No                   \n",
       "11                                                 No                   \n",
       "12                                                 No                   \n",
       "13                                                 Sí                   \n",
       "14                                                 No                   \n",
       "15                                                 Sí                   \n",
       "16                                                 Sí                   \n",
       "17                                                 Sí                   \n",
       "18                                                 Sí                   \n",
       "19                                                 Sí                   \n",
       "20                                                 No                   \n",
       "21                                                 Sí                   \n",
       "22                                                 Sí                   \n",
       "23                                                 Sí                   \n",
       "24                                                 Sí                   \n",
       "25                                                 No                   \n",
       "26                                                 No                   \n",
       "27                                                 Sí                   \n",
       "28                                                 No                   \n",
       "29                                                 No                   \n",
       "30                                                 Sí                   \n",
       "31                                                 Sí                   \n",
       "32                                                 No                   \n",
       "33                                                 Sí                   \n",
       "34                                                 Sí                   \n",
       "35                                                 Sí                   \n",
       "36                                                 No                   \n",
       "37                                                 No                   \n",
       "38                                                 Sí                   \n",
       "39                                                 Sí                   \n",
       "40                                                 Sí                   \n",
       "41                                                 No                   \n",
       "42                                                 No                   \n",
       "\n",
       "                    8.- ¿Cuál es tu canción favorita?  \n",
       "0                                            The Wolf  \n",
       "1                                     eternity, anyma  \n",
       "2                      Cornerstone- Arctic Monkeys :)  \n",
       "3                                     Sea Gets Hotter  \n",
       "4                          Love Me More, de Sam Smith  \n",
       "5                            Fireflight - Unbreakable  \n",
       "6                                Instrumental General  \n",
       "7                           La bruja de Marco Flores   \n",
       "8                                 Canela-Nanpa Basico  \n",
       "9   Depende del momento hy del día, ahora es Hielo...  \n",
       "10                                         No tengo:(  \n",
       "11                      The Words I Never Said / Mage  \n",
       "12                                   Dust in the wind  \n",
       "13                            Manto estelar - Moenia   \n",
       "14                                              Todas  \n",
       "15             Skillet-Comatose y Whisper in the Dark  \n",
       "16                  el hada y el mago de reta blancha  \n",
       "17  https://youtu.be/dQw4w9WgXcQ y https://youtu.b...  \n",
       "18                                   Hotel California  \n",
       "19  no tengo canción favorita, prácticamente no es...  \n",
       "20                          Burn My Dread - Persona 3  \n",
       "21                                               ....  \n",
       "22                                        Todo cuenta  \n",
       "23                                  Chosen - Maneskin  \n",
       "24                                  God's Plan- Drake  \n",
       "25         A man without love - Engelbert Humperdinck  \n",
       "26                                   Love of my life   \n",
       "27                    Jorge Drexler - El Plan Maestro  \n",
       "28                          Inolvidable - Luis Miguel  \n",
       "29                                          Last Call  \n",
       "30                   Lacrimosa- Matt Kent, Amber Dawn  \n",
       "31                               All the small things  \n",
       "32                Like I Love You - Justin Timberlake  \n",
       "33       Cold Heart - PNAU REMIX Elton Jhon, Dua Lipa  \n",
       "34                      Gorillaz - On Melancholy Hill  \n",
       "35  En este momento Los Años Maravillosos de Littl...  \n",
       "36                                        Young Turks  \n",
       "37                            the weeknd- Out of time  \n",
       "38                       https://youtu.be/BGVUiMskx_U  \n",
       "39                             porter guiame quetzal   \n",
       "40                                            Runaway  \n",
       "41  Hay varias, pero últimamente escucho mucho \"Cu...  \n",
       "42                              David Bowie - Heroes   "
      ]
     },
     "execution_count": 79,
     "metadata": {},
     "output_type": "execute_result"
    }
   ],
   "source": [
    "df=pd.read_csv(\"Perfil de estudiante.csv\")\n",
    "\n",
    "df"
   ]
  },
  {
   "cell_type": "code",
   "execution_count": 80,
   "metadata": {},
   "outputs": [
    {
     "data": {
      "text/html": [
       "<div>\n",
       "<style scoped>\n",
       "    .dataframe tbody tr th:only-of-type {\n",
       "        vertical-align: middle;\n",
       "    }\n",
       "\n",
       "    .dataframe tbody tr th {\n",
       "        vertical-align: top;\n",
       "    }\n",
       "\n",
       "    .dataframe thead th {\n",
       "        text-align: right;\n",
       "    }\n",
       "</style>\n",
       "<table border=\"1\" class=\"dataframe\">\n",
       "  <thead>\n",
       "    <tr style=\"text-align: right;\">\n",
       "      <th></th>\n",
       "      <th>Marca temporal</th>\n",
       "      <th>1.- ¿De dónde eres?</th>\n",
       "      <th>2.- ¿Cuántos años tienes?</th>\n",
       "      <th>3.- ¿Estudias?</th>\n",
       "      <th>4.- ¿Trabajas?</th>\n",
       "      <th>5.- ¿Cuál es tu nivel de conocimiento en Python?</th>\n",
       "      <th>6.- ¿Qué tema relacionado con Python te gustaría aprender?</th>\n",
       "      <th>7.- ¿Has participado en algún curso anteriormente en el IA Center?</th>\n",
       "      <th>8.- ¿Cuál es tu canción favorita?</th>\n",
       "    </tr>\n",
       "  </thead>\n",
       "  <tbody>\n",
       "    <tr>\n",
       "      <th>0</th>\n",
       "      <td>2023/06/27 7:42:12 p. m. GMT-6</td>\n",
       "      <td>Cd. Juárez</td>\n",
       "      <td>Entre 21 y 24</td>\n",
       "      <td>Sí</td>\n",
       "      <td>No</td>\n",
       "      <td>Básico</td>\n",
       "      <td>Manejar bases de datos</td>\n",
       "      <td>No</td>\n",
       "      <td>The Wolf</td>\n",
       "    </tr>\n",
       "    <tr>\n",
       "      <th>1</th>\n",
       "      <td>2023/06/27 7:42:28 p. m. GMT-6</td>\n",
       "      <td>chihuahua, chihuahua</td>\n",
       "      <td>Entre 21 y 24</td>\n",
       "      <td>Sí</td>\n",
       "      <td>Sí</td>\n",
       "      <td>Básico</td>\n",
       "      <td>machine lerning</td>\n",
       "      <td>Sí</td>\n",
       "      <td>eternity, anyma</td>\n",
       "    </tr>\n",
       "    <tr>\n",
       "      <th>2</th>\n",
       "      <td>2023/06/27 7:42:44 p. m. GMT-6</td>\n",
       "      <td>Chihuahua Chihuahua</td>\n",
       "      <td>Entre 18 y 20</td>\n",
       "      <td>Sí</td>\n",
       "      <td>Sí</td>\n",
       "      <td>Básico</td>\n",
       "      <td>Automatización y creación de apps/páginas web</td>\n",
       "      <td>No</td>\n",
       "      <td>Cornerstone- Arctic Monkeys :)</td>\n",
       "    </tr>\n",
       "    <tr>\n",
       "      <th>3</th>\n",
       "      <td>2023/06/27 7:42:52 p. m. GMT-6</td>\n",
       "      <td>Chihuahua Chihuahua</td>\n",
       "      <td>Entre 21 y 24</td>\n",
       "      <td>Sí</td>\n",
       "      <td>Sí</td>\n",
       "      <td>Básico</td>\n",
       "      <td>Análisis de datos</td>\n",
       "      <td>Sí</td>\n",
       "      <td>Sea Gets Hotter</td>\n",
       "    </tr>\n",
       "    <tr>\n",
       "      <th>4</th>\n",
       "      <td>2023/06/27 7:42:56 p. m. GMT-6</td>\n",
       "      <td>Chihuahua, Chih.</td>\n",
       "      <td>Más de 30</td>\n",
       "      <td>No</td>\n",
       "      <td>Sí</td>\n",
       "      <td>Básico</td>\n",
       "      <td>Conocer más librerias</td>\n",
       "      <td>Sí</td>\n",
       "      <td>Love Me More, de Sam Smith</td>\n",
       "    </tr>\n",
       "  </tbody>\n",
       "</table>\n",
       "</div>"
      ],
      "text/plain": [
       "                   Marca temporal   1.- ¿De dónde eres?  \\\n",
       "0  2023/06/27 7:42:12 p. m. GMT-6            Cd. Juárez   \n",
       "1  2023/06/27 7:42:28 p. m. GMT-6  chihuahua, chihuahua   \n",
       "2  2023/06/27 7:42:44 p. m. GMT-6   Chihuahua Chihuahua   \n",
       "3  2023/06/27 7:42:52 p. m. GMT-6   Chihuahua Chihuahua   \n",
       "4  2023/06/27 7:42:56 p. m. GMT-6      Chihuahua, Chih.   \n",
       "\n",
       "  2.- ¿Cuántos años tienes? 3.- ¿Estudias? 4.- ¿Trabajas?  \\\n",
       "0             Entre 21 y 24             Sí             No   \n",
       "1             Entre 21 y 24             Sí             Sí   \n",
       "2             Entre 18 y 20             Sí             Sí   \n",
       "3             Entre 21 y 24             Sí             Sí   \n",
       "4                 Más de 30             No             Sí   \n",
       "\n",
       "  5.- ¿Cuál es tu nivel de conocimiento en Python?  \\\n",
       "0                                           Básico   \n",
       "1                                           Básico   \n",
       "2                                           Básico   \n",
       "3                                           Básico   \n",
       "4                                           Básico   \n",
       "\n",
       "  6.- ¿Qué tema relacionado con Python te gustaría aprender?  \\\n",
       "0                             Manejar bases de datos           \n",
       "1                                    machine lerning           \n",
       "2      Automatización y creación de apps/páginas web           \n",
       "3                                  Análisis de datos           \n",
       "4                              Conocer más librerias           \n",
       "\n",
       "  7.- ¿Has participado en algún curso anteriormente en el IA Center?  \\\n",
       "0                                                 No                   \n",
       "1                                                 Sí                   \n",
       "2                                                 No                   \n",
       "3                                                 Sí                   \n",
       "4                                                 Sí                   \n",
       "\n",
       "  8.- ¿Cuál es tu canción favorita?  \n",
       "0                          The Wolf  \n",
       "1                   eternity, anyma  \n",
       "2    Cornerstone- Arctic Monkeys :)  \n",
       "3                   Sea Gets Hotter  \n",
       "4        Love Me More, de Sam Smith  "
      ]
     },
     "execution_count": 80,
     "metadata": {},
     "output_type": "execute_result"
    }
   ],
   "source": [
    "df.head()"
   ]
  },
  {
   "cell_type": "code",
   "execution_count": 81,
   "metadata": {},
   "outputs": [
    {
     "data": {
      "text/html": [
       "<div>\n",
       "<style scoped>\n",
       "    .dataframe tbody tr th:only-of-type {\n",
       "        vertical-align: middle;\n",
       "    }\n",
       "\n",
       "    .dataframe tbody tr th {\n",
       "        vertical-align: top;\n",
       "    }\n",
       "\n",
       "    .dataframe thead th {\n",
       "        text-align: right;\n",
       "    }\n",
       "</style>\n",
       "<table border=\"1\" class=\"dataframe\">\n",
       "  <thead>\n",
       "    <tr style=\"text-align: right;\">\n",
       "      <th></th>\n",
       "      <th>Marca temporal</th>\n",
       "      <th>1.- ¿De dónde eres?</th>\n",
       "      <th>2.- ¿Cuántos años tienes?</th>\n",
       "      <th>3.- ¿Estudias?</th>\n",
       "      <th>4.- ¿Trabajas?</th>\n",
       "      <th>5.- ¿Cuál es tu nivel de conocimiento en Python?</th>\n",
       "      <th>6.- ¿Qué tema relacionado con Python te gustaría aprender?</th>\n",
       "      <th>7.- ¿Has participado en algún curso anteriormente en el IA Center?</th>\n",
       "      <th>8.- ¿Cuál es tu canción favorita?</th>\n",
       "    </tr>\n",
       "  </thead>\n",
       "  <tbody>\n",
       "    <tr>\n",
       "      <th>38</th>\n",
       "      <td>2023/06/27 10:02:11 p. m. GMT-6</td>\n",
       "      <td>Ciudad Juarez, Chih</td>\n",
       "      <td>Entre 21 y 24</td>\n",
       "      <td>No</td>\n",
       "      <td>Sí</td>\n",
       "      <td>Básico</td>\n",
       "      <td>Analisis de datos</td>\n",
       "      <td>Sí</td>\n",
       "      <td>https://youtu.be/BGVUiMskx_U</td>\n",
       "    </tr>\n",
       "    <tr>\n",
       "      <th>39</th>\n",
       "      <td>2023/06/27 10:31:28 p. m. GMT-6</td>\n",
       "      <td>cd juarez</td>\n",
       "      <td>Entre 21 y 24</td>\n",
       "      <td>Sí</td>\n",
       "      <td>Sí</td>\n",
       "      <td>Básico</td>\n",
       "      <td>punteros</td>\n",
       "      <td>Sí</td>\n",
       "      <td>porter guiame quetzal</td>\n",
       "    </tr>\n",
       "    <tr>\n",
       "      <th>40</th>\n",
       "      <td>2023/06/28 10:12:04 p. m. GMT-6</td>\n",
       "      <td>Chihuahua</td>\n",
       "      <td>Entre 21 y 24</td>\n",
       "      <td>No</td>\n",
       "      <td>Sí</td>\n",
       "      <td>Básico</td>\n",
       "      <td>Machine Learning y Deep Learning</td>\n",
       "      <td>Sí</td>\n",
       "      <td>Runaway</td>\n",
       "    </tr>\n",
       "    <tr>\n",
       "      <th>41</th>\n",
       "      <td>2023/06/29 2:00:51 a. m. GMT-6</td>\n",
       "      <td>Vivo en Ciudad Juárez. Soy cubana</td>\n",
       "      <td>Más de 30</td>\n",
       "      <td>Sí</td>\n",
       "      <td>No</td>\n",
       "      <td>Intermedio</td>\n",
       "      <td>Cómo escribir un código de forma profesional, ...</td>\n",
       "      <td>No</td>\n",
       "      <td>Hay varias, pero últimamente escucho mucho \"Cu...</td>\n",
       "    </tr>\n",
       "    <tr>\n",
       "      <th>42</th>\n",
       "      <td>2023/07/03 1:55:24 p. m. GMT-6</td>\n",
       "      <td>Ciudad Juarez</td>\n",
       "      <td>Más de 30</td>\n",
       "      <td>No</td>\n",
       "      <td>Sí</td>\n",
       "      <td>Intermedio</td>\n",
       "      <td>Automatizacion</td>\n",
       "      <td>No</td>\n",
       "      <td>David Bowie - Heroes</td>\n",
       "    </tr>\n",
       "  </tbody>\n",
       "</table>\n",
       "</div>"
      ],
      "text/plain": [
       "                     Marca temporal                1.- ¿De dónde eres?  \\\n",
       "38  2023/06/27 10:02:11 p. m. GMT-6                Ciudad Juarez, Chih   \n",
       "39  2023/06/27 10:31:28 p. m. GMT-6                          cd juarez   \n",
       "40  2023/06/28 10:12:04 p. m. GMT-6                          Chihuahua   \n",
       "41   2023/06/29 2:00:51 a. m. GMT-6  Vivo en Ciudad Juárez. Soy cubana   \n",
       "42   2023/07/03 1:55:24 p. m. GMT-6                      Ciudad Juarez   \n",
       "\n",
       "   2.- ¿Cuántos años tienes? 3.- ¿Estudias? 4.- ¿Trabajas?  \\\n",
       "38             Entre 21 y 24             No             Sí   \n",
       "39             Entre 21 y 24             Sí             Sí   \n",
       "40             Entre 21 y 24             No             Sí   \n",
       "41                 Más de 30             Sí             No   \n",
       "42                 Más de 30             No             Sí   \n",
       "\n",
       "   5.- ¿Cuál es tu nivel de conocimiento en Python?  \\\n",
       "38                                           Básico   \n",
       "39                                           Básico   \n",
       "40                                           Básico   \n",
       "41                                       Intermedio   \n",
       "42                                       Intermedio   \n",
       "\n",
       "   6.- ¿Qué tema relacionado con Python te gustaría aprender?  \\\n",
       "38                                  Analisis de datos           \n",
       "39                                           punteros           \n",
       "40                   Machine Learning y Deep Learning           \n",
       "41  Cómo escribir un código de forma profesional, ...           \n",
       "42                                     Automatizacion           \n",
       "\n",
       "   7.- ¿Has participado en algún curso anteriormente en el IA Center?  \\\n",
       "38                                                 Sí                   \n",
       "39                                                 Sí                   \n",
       "40                                                 Sí                   \n",
       "41                                                 No                   \n",
       "42                                                 No                   \n",
       "\n",
       "                    8.- ¿Cuál es tu canción favorita?  \n",
       "38                       https://youtu.be/BGVUiMskx_U  \n",
       "39                             porter guiame quetzal   \n",
       "40                                            Runaway  \n",
       "41  Hay varias, pero últimamente escucho mucho \"Cu...  \n",
       "42                              David Bowie - Heroes   "
      ]
     },
     "execution_count": 81,
     "metadata": {},
     "output_type": "execute_result"
    }
   ],
   "source": [
    "df.tail()"
   ]
  },
  {
   "cell_type": "code",
   "execution_count": 82,
   "metadata": {},
   "outputs": [
    {
     "name": "stdout",
     "output_type": "stream",
     "text": [
      "<class 'pandas.core.frame.DataFrame'>\n",
      "RangeIndex: 43 entries, 0 to 42\n",
      "Data columns (total 9 columns):\n",
      " #   Column                                                              Non-Null Count  Dtype \n",
      "---  ------                                                              --------------  ----- \n",
      " 0   Marca temporal                                                      43 non-null     object\n",
      " 1   1.- ¿De dónde eres?                                                 43 non-null     object\n",
      " 2   2.- ¿Cuántos años tienes?                                           43 non-null     object\n",
      " 3   3.- ¿Estudias?                                                      43 non-null     object\n",
      " 4   4.- ¿Trabajas?                                                      43 non-null     object\n",
      " 5   5.- ¿Cuál es tu nivel de conocimiento en Python?                    43 non-null     object\n",
      " 6   6.- ¿Qué tema relacionado con Python te gustaría aprender?          43 non-null     object\n",
      " 7   7.- ¿Has participado en algún curso anteriormente en el IA Center?  43 non-null     object\n",
      " 8   8.- ¿Cuál es tu canción favorita?                                   43 non-null     object\n",
      "dtypes: object(9)\n",
      "memory usage: 3.2+ KB\n"
     ]
    }
   ],
   "source": [
    "df.info()"
   ]
  },
  {
   "cell_type": "code",
   "execution_count": 83,
   "metadata": {},
   "outputs": [
    {
     "name": "stdout",
     "output_type": "stream",
     "text": [
      "                     Marca temporal                        1.- ¿De dónde eres? 2.- ¿Cuántos años tienes? 3.- ¿Estudias? 4.- ¿Trabajas? 5.- ¿Cuál es tu nivel de conocimiento en Python?                                           6.- ¿Qué tema relacionado con Python te gustaría aprender? 7.- ¿Has participado en algún curso anteriormente en el IA Center?                             8.- ¿Cuál es tu canción favorita?\n",
      "0    2023/06/27 7:42:12 p. m. GMT-6                                 Cd. Juárez             Entre 21 y 24             Sí             No                                           Básico                                                                               Manejar bases de datos                                                                 No                                                      The Wolf\n",
      "1    2023/06/27 7:42:28 p. m. GMT-6                       chihuahua, chihuahua             Entre 21 y 24             Sí             Sí                                           Básico                                                                                      machine lerning                                                                 Sí                                               eternity, anyma\n",
      "2    2023/06/27 7:42:44 p. m. GMT-6                        Chihuahua Chihuahua             Entre 18 y 20             Sí             Sí                                           Básico                                                        Automatización y creación de apps/páginas web                                                                 No                                Cornerstone- Arctic Monkeys :)\n",
      "3    2023/06/27 7:42:52 p. m. GMT-6                        Chihuahua Chihuahua             Entre 21 y 24             Sí             Sí                                           Básico                                                                                    Análisis de datos                                                                 Sí                                               Sea Gets Hotter\n",
      "4    2023/06/27 7:42:56 p. m. GMT-6                           Chihuahua, Chih.                 Más de 30             No             Sí                                           Básico                                                                                Conocer más librerias                                                                 Sí                                    Love Me More, de Sam Smith\n",
      "5    2023/06/27 7:42:57 p. m. GMT-6                                     Puebla             Entre 21 y 24             Sí             Sí                                           Básico                                                                                  APIS y data science                                                                 No                                      Fireflight - Unbreakable\n",
      "6    2023/06/27 7:42:57 p. m. GMT-6                            Cd. Juarez Chih                 Más de 30             No             Sí                                       Intermedio                                                                                    Analisis de Datos                                                                 Sí                                          Instrumental General\n",
      "7    2023/06/27 7:43:04 p. m. GMT-6                              Ciudad Juarez             Entre 21 y 24             Sí             Sí                                           Básico                                                                                     Ciencia de datos                                                                 Sí                                     La bruja de Marco Flores \n",
      "8    2023/06/27 7:43:10 p. m. GMT-6                             Aguascalientes             Entre 18 y 20             Sí             No                                           Básico  Me gustaria aprender un poco de todo, pero mas que nada me gustaria practicar mas los conocimientos                                                                 No                                           Canela-Nanpa Basico\n",
      "9    2023/06/27 7:43:12 p. m. GMT-6                           Cd Juarez, Chih.             Entre 21 y 24             Sí             No                                           Básico                                       No tengo un tema en especifico, solo deseo repasar y aprender                                                                  Sí          Depende del momento hy del día, ahora es Hielo - Zoé\n",
      "10   2023/06/27 7:43:12 p. m. GMT-6                                     Juárez             Entre 21 y 24             Sí             Sí                                           Básico                                                                                    Análisis de datos                                                                 No                                                    No tengo:(\n",
      "11   2023/06/27 7:43:16 p. m. GMT-6                                 El Paso TX             Entre 18 y 20             Sí             No                                           Básico                                                                                                  POO                                                                 No                                 The Words I Never Said / Mage\n",
      "12   2023/06/27 7:43:16 p. m. GMT-6                       Cuauhtemoc Chihuahua                 Más de 30             No             Sí                                       Intermedio                                                                              Web y análisis de datos                                                                 No                                              Dust in the wind\n",
      "13   2023/06/27 7:43:29 p. m. GMT-6                                Cd. Juárez              Entre 21 y 24             Sí             Sí                                           Básico                         Flujos de trabajo, análisis de datos, análisis estadístico y automatización                                                                  Sí                                       Manto estelar - Moenia \n",
      "14   2023/06/27 7:43:34 p. m. GMT-6                                    Hidalgo             Entre 25 y 29             Sí             Sí                                           Básico                                                                                        Deep learning                                                                 No                                                         Todas\n",
      "15   2023/06/27 7:43:50 p. m. GMT-6                          Cd. Juarez, Chih.             Entre 21 y 24             Sí             Sí                                           Básico                                                               Programación orientada a objetos (POO)                                                                 Sí                        Skillet-Comatose y Whisper in the Dark\n",
      "16   2023/06/27 7:44:01 p. m. GMT-6                       Cd. Juarez Chihuahua                 Más de 30             No             Sí                                           Básico                                        un poco de todo para irme familiarizandome a la prograamacion                                                                 Sí                             el hada y el mago de reta blancha\n",
      "17   2023/06/27 7:44:01 p. m. GMT-6             Ciudad Juarez Chihuahua Mexico             Entre 21 y 24             No             No                                           Básico                                                                                            API y IA                                                                  Sí   https://youtu.be/dQw4w9WgXcQ y https://youtu.be/yJDBmP9Mexk\n",
      "18   2023/06/27 7:44:12 p. m. GMT-6                              Ciudad Juarez                 Más de 30             Sí             No                                           Básico                                                       Web Scrapping y limpieza de conjuntos de datos                                                                 Sí                                              Hotel California\n",
      "19   2023/06/27 7:44:14 p. m. GMT-6                           Chihuahua, Chih.                 Más de 30             No             Sí                                           Básico                                                                                    análisis de datos                                                                 Sí   no tengo canción favorita, prácticamente no escucho música \n",
      "20   2023/06/27 7:44:17 p. m. GMT-6                              Ciudad Juarez             Entre 18 y 20             Sí             No                                           Básico                                                       Analisis de datos y su uso para desarrollo web                                                                 No                                     Burn My Dread - Persona 3\n",
      "21   2023/06/27 7:44:20 p. m. GMT-6               Cd Juárez Chihuahua, México.                 Más de 30             No             Sí                                           Básico                                                        Ciencia de Datos, y API`s y Todo lo de Python                                                                 Sí                                                          ....\n",
      "22   2023/06/27 7:44:25 p. m. GMT-6                              Ciudad Juárez                 Más de 30             No             Sí                                           Básico                                                       recolección, limpieza y visualización de datos                                                                 Sí                                                   Todo cuenta\n",
      "23   2023/06/27 7:44:30 p. m. GMT-6                                 Cd. Juárez             Entre 25 y 29             Sí             No                                           Básico                                                                                     Ciencia de datos                                                                 Sí                                             Chosen - Maneskin\n",
      "24   2023/06/27 7:44:31 p. m. GMT-6                                     Juarez             Entre 25 y 29             Sí             Sí                                           Básico         Como hacer una interfaz para poder hacer un programa funcional para terceros. Python con SQL                                                                 Sí                                             God's Plan- Drake\n",
      "25   2023/06/27 7:45:04 p. m. GMT-6                     Cd. Juárez, Chihuahua              Entre 18 y 20             Sí             No                        Nunca he utilizado Python                                                                      Programación para uso academico                                                                 No                    A man without love - Engelbert Humperdinck\n",
      "26   2023/06/27 7:45:37 p. m. GMT-6                            Aguascalientes              Entre 21 y 24             Sí             No                                       Intermedio                                                                  un poco de inteligencia artificial                                                                  No                                              Love of my life \n",
      "27   2023/06/27 7:45:45 p. m. GMT-6                                 Cd. Juarez             Entre 15 y 17             Sí             No                                           Básico                                                                                               Bucles                                                                 Sí                               Jorge Drexler - El Plan Maestro\n",
      "28   2023/06/27 7:46:10 p. m. GMT-6  San Francisco de los Romo, Aguascalientes             Entre 18 y 20             Sí             No                                           Básico                                           Librerias con aplicaciones en el mundo de las matemáticas.                                                                 No                                     Inolvidable - Luis Miguel\n",
      "29   2023/06/27 7:46:14 p. m. GMT-6                                  Chihuahua             Entre 18 y 20             Sí             Sí                                           Básico                                                                                           desarrollo                                                                 No                                                     Last Call\n",
      "30   2023/06/27 7:46:28 p. m. GMT-6                              Ciudad Juárez             Entre 21 y 24             Sí             No                                           Básico                                                                               Procesamiento de datos                                                                 Sí                              Lacrimosa- Matt Kent, Amber Dawn\n",
      "31   2023/06/27 7:46:32 p. m. GMT-6                                 Zacatecas              Entre 25 y 29             Sí             Sí                                           Básico                                                                                                 Apis                                                                 Sí                                          All the small things\n",
      "32   2023/06/27 7:46:37 p. m. GMT-6                              Ciudad Juarez             Entre 21 y 24             Sí             Sí                                           Básico                                                                                      MachineLearning                                                                 No                           Like I Love You - Justin Timberlake\n",
      "33   2023/06/27 7:49:23 p. m. GMT-6                              Ciudad Juárez             Entre 18 y 20             Sí             No                                           Básico                                                                    Ciencia de Datos y automatización                                                                 Sí                  Cold Heart - PNAU REMIX Elton Jhon, Dua Lipa\n",
      "34   2023/06/27 7:51:23 p. m. GMT-6                              Ciudad Juarez             Entre 25 y 29             Sí             Sí                                       Intermedio                                                                        ciencia de datos, webscraping                                                                 Sí                                 Gorillaz - On Melancholy Hill\n",
      "35   2023/06/27 7:55:00 p. m. GMT-6                Veracruz, estudio en Puebla             Entre 25 y 29             Sí             No                                           Básico                                                                Lo relacionado con análisis de datos.                                                                 Sí        En este momento Los Años Maravillosos de Little Jesus \n",
      "36   2023/06/27 8:05:42 p. m. GMT-6                                       CDMX             Entre 25 y 29             No             Sí                                           Básico                                                                                         web scraping                                                                 No                                                   Young Turks\n",
      "37   2023/06/27 8:22:29 p. m. GMT-6                           Estado de Mexico             Entre 21 y 24             Sí             Sí                                           Básico                                                                  librerias, bloques paquetes etc....                                                                 No                                       the weeknd- Out of time\n",
      "38  2023/06/27 10:02:11 p. m. GMT-6                        Ciudad Juarez, Chih             Entre 21 y 24             No             Sí                                           Básico                                                                                    Analisis de datos                                                                 Sí                                  https://youtu.be/BGVUiMskx_U\n",
      "39  2023/06/27 10:31:28 p. m. GMT-6                                  cd juarez             Entre 21 y 24             Sí             Sí                                           Básico                                                                                             punteros                                                                 Sí                                        porter guiame quetzal \n",
      "40  2023/06/28 10:12:04 p. m. GMT-6                                  Chihuahua             Entre 21 y 24             No             Sí                                           Básico                                                                     Machine Learning y Deep Learning                                                                 Sí                                                       Runaway\n",
      "41   2023/06/29 2:00:51 a. m. GMT-6          Vivo en Ciudad Juárez. Soy cubana                 Más de 30             Sí             No                                       Intermedio       Cómo escribir un código de forma profesional, utilizando las herramientas necesarias y óptimas                                                                 No  Hay varias, pero últimamente escucho mucho \"Cuba Isla Bella\"\n",
      "42   2023/07/03 1:55:24 p. m. GMT-6                              Ciudad Juarez                 Más de 30             No             Sí                                       Intermedio                                                                                       Automatizacion                                                                 No                                         David Bowie - Heroes \n"
     ]
    }
   ],
   "source": [
    "df=pd.read_csv(\"Perfil de estudiante.csv\")\n",
    "\n",
    "print(df.to_string())"
   ]
  },
  {
   "cell_type": "code",
   "execution_count": 84,
   "metadata": {},
   "outputs": [
    {
     "name": "stdout",
     "output_type": "stream",
     "text": [
      "                                                 personas\n",
      "0      {'nombre': 'Juan', 'edad': 25, 'ciudad': 'Madrid'}\n",
      "1  {'nombre': 'María', 'edad': 30, 'ciudad': 'Barcelona'}\n",
      "2   {'nombre': 'Pedro', 'edad': 35, 'ciudad': 'Valencia'}\n"
     ]
    }
   ],
   "source": [
    "df=pd.read_json(\"dataset.json\")\n",
    "\n",
    "print(df.to_string())"
   ]
  },
  {
   "cell_type": "code",
   "execution_count": 138,
   "metadata": {},
   "outputs": [],
   "source": [
    "data = {\n",
    "\n",
    "    'Nombre': ['Juan', 'María', 'Pedro', 'Ana', 'Luis'],\n",
    "\n",
    "    'Edad': [25, 32, None, 42, 28],\n",
    "\n",
    "    'Fecha': ['31/01/2020', '31/01/2020', None, '31/01/2020', '01/31/2020'],\n",
    "\n",
    "    'Género': ['M', 'F', None, 'F', 'M'],\n",
    "\n",
    "    'Ciudad': ['Madrid', None, 'Madrid', 'Valencia', 'Barcelona'],\n",
    "\n",
    "    'Altura': [175, 163, 180, 158, 170],\n",
    "\n",
    "    'Peso': [70, None, 80, 60, 75],\n",
    "\n",
    "    'Ingresos': [50000, 60000, 40000, None, 55000]\n",
    "\n",
    "}"
   ]
  },
  {
   "cell_type": "code",
   "execution_count": 150,
   "metadata": {},
   "outputs": [
    {
     "name": "stdout",
     "output_type": "stream",
     "text": [
      "  Nombre  Edad       Fecha Género     Ciudad  Altura  Peso  Ingresos\n",
      "0   Juan  25.0  31/01/2020      M     Madrid     175  70.0   50000.0\n",
      "1  María  32.0  31/01/2020      F       None     163   NaN   60000.0\n",
      "2  Pedro   NaN        None   None     Madrid     180  80.0   40000.0\n",
      "3    Ana  42.0  31/01/2020      F   Valencia     158  60.0       NaN\n",
      "4   Luis  28.0  01/31/2020      M  Barcelona     170  75.0   55000.0\n"
     ]
    }
   ],
   "source": [
    "df=pd.DataFrame(data)\n",
    "\n",
    "print(df)"
   ]
  },
  {
   "cell_type": "code",
   "execution_count": 87,
   "metadata": {},
   "outputs": [
    {
     "name": "stdout",
     "output_type": "stream",
     "text": [
      "  Nombre  Edad       Fecha Género     Ciudad  Altura  Peso  Ingresos\n",
      "0   Juan  25.0  31/01/2020      M     Madrid     175  70.0   50000.0\n",
      "4   Luis  28.0  01/31/2020      M  Barcelona     170  75.0   55000.0\n"
     ]
    }
   ],
   "source": [
    "df_sin_vacios = df.dropna()\n",
    "\n",
    "print(df_sin_vacios.to_string())"
   ]
  },
  {
   "cell_type": "code",
   "execution_count": 88,
   "metadata": {},
   "outputs": [
    {
     "name": "stdout",
     "output_type": "stream",
     "text": [
      "  Nombre  Edad       Fecha Género     Ciudad  Altura  Peso  Ingresos\n",
      "0   Juan  25.0  31/01/2020      M     Madrid     175  70.0   50000.0\n",
      "4   Luis  28.0  01/31/2020      M  Barcelona     170  75.0   55000.0\n"
     ]
    }
   ],
   "source": [
    "df.dropna(inplace=True)\n",
    "print(df.to_string())"
   ]
  },
  {
   "cell_type": "code",
   "execution_count": 60,
   "metadata": {},
   "outputs": [
    {
     "data": {
      "text/html": [
       "<div>\n",
       "<style scoped>\n",
       "    .dataframe tbody tr th:only-of-type {\n",
       "        vertical-align: middle;\n",
       "    }\n",
       "\n",
       "    .dataframe tbody tr th {\n",
       "        vertical-align: top;\n",
       "    }\n",
       "\n",
       "    .dataframe thead th {\n",
       "        text-align: right;\n",
       "    }\n",
       "</style>\n",
       "<table border=\"1\" class=\"dataframe\">\n",
       "  <thead>\n",
       "    <tr style=\"text-align: right;\">\n",
       "      <th></th>\n",
       "      <th>Nombre</th>\n",
       "      <th>Edad</th>\n",
       "      <th>Fecha</th>\n",
       "      <th>Género</th>\n",
       "      <th>Ciudad</th>\n",
       "      <th>Altura</th>\n",
       "      <th>Peso</th>\n",
       "      <th>Ingresos</th>\n",
       "    </tr>\n",
       "  </thead>\n",
       "  <tbody>\n",
       "    <tr>\n",
       "      <th>0</th>\n",
       "      <td>Juan</td>\n",
       "      <td>25.0</td>\n",
       "      <td>31/01/2020</td>\n",
       "      <td>M</td>\n",
       "      <td>Madrid</td>\n",
       "      <td>175</td>\n",
       "      <td>70.0</td>\n",
       "      <td>50000.0</td>\n",
       "    </tr>\n",
       "    <tr>\n",
       "      <th>4</th>\n",
       "      <td>Luis</td>\n",
       "      <td>28.0</td>\n",
       "      <td>01/31/2020</td>\n",
       "      <td>M</td>\n",
       "      <td>Barcelona</td>\n",
       "      <td>170</td>\n",
       "      <td>75.0</td>\n",
       "      <td>55000.0</td>\n",
       "    </tr>\n",
       "  </tbody>\n",
       "</table>\n",
       "</div>"
      ],
      "text/plain": [
       "  Nombre  Edad       Fecha Género     Ciudad  Altura  Peso  Ingresos\n",
       "0   Juan  25.0  31/01/2020      M     Madrid     175  70.0   50000.0\n",
       "4   Luis  28.0  01/31/2020      M  Barcelona     170  75.0   55000.0"
      ]
     },
     "execution_count": 60,
     "metadata": {},
     "output_type": "execute_result"
    }
   ],
   "source": [
    "df"
   ]
  },
  {
   "cell_type": "code",
   "execution_count": 94,
   "metadata": {},
   "outputs": [
    {
     "name": "stdout",
     "output_type": "stream",
     "text": [
      "  Nombre          Edad         Fecha        Género        Ciudad  Altura          Peso      Ingresos\n",
      "0   Juan          25.0    31/01/2020             M        Madrid     175          70.0       50000.0\n",
      "1  María          32.0    31/01/2020             F  Sin registro     163  Sin registro       60000.0\n",
      "2  Pedro  Sin registro  Sin registro  Sin registro        Madrid     180          80.0       40000.0\n",
      "3    Ana          42.0    31/01/2020             F      Valencia     158          60.0  Sin registro\n",
      "4   Luis          28.0    01/31/2020             M     Barcelona     170          75.0       55000.0\n"
     ]
    }
   ],
   "source": [
    "df.fillna(\"Sin registro\",inplace=True)\n",
    "\n",
    "print(df.to_string())"
   ]
  },
  {
   "cell_type": "code",
   "execution_count": 140,
   "metadata": {},
   "outputs": [
    {
     "name": "stdout",
     "output_type": "stream",
     "text": [
      "  Nombre  Edad       Fecha Género     Ciudad  Altura  Peso  Ingresos\n",
      "0   Juan  25.0  31/01/2020      M     Madrid     175  70.0   50000.0\n",
      "1  María  32.0  31/01/2020      F       None     163   NaN   60000.0\n",
      "2  Pedro   NaN        None   None     Madrid     180  80.0   40000.0\n",
      "3    Ana  42.0  31/01/2020      F   Valencia     158  60.0       0.0\n",
      "4   Luis  28.0  01/31/2020      M  Barcelona     170  75.0   55000.0\n"
     ]
    }
   ],
   "source": [
    "df[\"Ingresos\"].fillna(0,inplace=True)\n",
    "print(df.to_string())"
   ]
  },
  {
   "cell_type": "code",
   "execution_count": 143,
   "metadata": {},
   "outputs": [
    {
     "name": "stdout",
     "output_type": "stream",
     "text": [
      "41000.0\n"
     ]
    }
   ],
   "source": [
    "media=df[\"Ingresos\"].mean() # (median, mediana), (mean, media), (mode, moda)\n",
    "\n",
    "print(media)"
   ]
  },
  {
   "cell_type": "code",
   "execution_count": 151,
   "metadata": {},
   "outputs": [
    {
     "name": "stdout",
     "output_type": "stream",
     "text": [
      "  Nombre  Edad       Fecha Género     Ciudad  Altura  Peso  Ingresos\n",
      "0   Juan  25.0  31/01/2020      M     Madrid     175  70.0   50000.0\n",
      "1  María  32.0  31/01/2020      F       None     163   NaN   60000.0\n",
      "2  Pedro   NaN        None   None     Madrid     180  80.0   40000.0\n",
      "3    Ana  42.0  31/01/2020      F   Valencia     158  60.0   41000.0\n",
      "4   Luis  28.0  01/31/2020      M  Barcelona     170  75.0   55000.0\n"
     ]
    }
   ],
   "source": [
    "df[\"Ingresos\"].fillna(media,inplace=True)\n",
    "\n",
    "print(df)"
   ]
  },
  {
   "cell_type": "code",
   "execution_count": 152,
   "metadata": {},
   "outputs": [
    {
     "name": "stdout",
     "output_type": "stream",
     "text": [
      "0    50000.0\n",
      "1    60000.0\n",
      "2    40000.0\n",
      "3    41000.0\n",
      "4    55000.0\n",
      "Name: Ingresos, dtype: float64\n"
     ]
    }
   ],
   "source": [
    "df_media=df[\"Ingresos\"].fillna(media)\n",
    "\n",
    "print(df_media)"
   ]
  },
  {
   "cell_type": "code",
   "execution_count": 153,
   "metadata": {},
   "outputs": [
    {
     "name": "stdout",
     "output_type": "stream",
     "text": [
      "  Nombre  Edad       Fecha Género     Ciudad  Altura  Peso  Ingresos\n",
      "0   Juan  25.0  31/01/2020      M     Madrid     175  70.0   50000.0\n",
      "1  María  32.0  31/01/2020      F       None     163  70.0   60000.0\n",
      "2  Pedro   NaN        None   None     Madrid     180  80.0   40000.0\n",
      "3    Ana  42.0  31/01/2020      F   Valencia     158  60.0   41000.0\n",
      "4   Luis  28.0  01/31/2020      M  Barcelona     170  75.0   55000.0\n"
     ]
    }
   ],
   "source": [
    "df.loc[1,\"Peso\"]=70\n",
    "\n",
    "print(df)"
   ]
  },
  {
   "cell_type": "code",
   "execution_count": 154,
   "metadata": {},
   "outputs": [
    {
     "data": {
      "text/plain": [
       "0    False\n",
       "1    False\n",
       "2    False\n",
       "3    False\n",
       "4    False\n",
       "dtype: bool"
      ]
     },
     "execution_count": 154,
     "metadata": {},
     "output_type": "execute_result"
    }
   ],
   "source": [
    "df.duplicated()\n"
   ]
  },
  {
   "cell_type": "code",
   "execution_count": 158,
   "metadata": {},
   "outputs": [],
   "source": [
    "df.drop_duplicates(inplace=True)"
   ]
  },
  {
   "cell_type": "code",
   "execution_count": 160,
   "metadata": {},
   "outputs": [
    {
     "ename": "ValueError",
     "evalue": "could not convert string to float: 'Juan'",
     "output_type": "error",
     "traceback": [
      "\u001b[1;31m---------------------------------------------------------------------------\u001b[0m",
      "\u001b[1;31mValueError\u001b[0m                                Traceback (most recent call last)",
      "Cell \u001b[1;32mIn[160], line 1\u001b[0m\n\u001b[1;32m----> 1\u001b[0m df\u001b[39m.\u001b[39;49mcorr()\n",
      "File \u001b[1;32mc:\\Users\\carlo\\AppData\\Local\\Programs\\Python\\Python311\\Lib\\site-packages\\pandas\\core\\frame.py:10054\u001b[0m, in \u001b[0;36mDataFrame.corr\u001b[1;34m(self, method, min_periods, numeric_only)\u001b[0m\n\u001b[0;32m  10052\u001b[0m cols \u001b[39m=\u001b[39m data\u001b[39m.\u001b[39mcolumns\n\u001b[0;32m  10053\u001b[0m idx \u001b[39m=\u001b[39m cols\u001b[39m.\u001b[39mcopy()\n\u001b[1;32m> 10054\u001b[0m mat \u001b[39m=\u001b[39m data\u001b[39m.\u001b[39;49mto_numpy(dtype\u001b[39m=\u001b[39;49m\u001b[39mfloat\u001b[39;49m, na_value\u001b[39m=\u001b[39;49mnp\u001b[39m.\u001b[39;49mnan, copy\u001b[39m=\u001b[39;49m\u001b[39mFalse\u001b[39;49;00m)\n\u001b[0;32m  10056\u001b[0m \u001b[39mif\u001b[39;00m method \u001b[39m==\u001b[39m \u001b[39m\"\u001b[39m\u001b[39mpearson\u001b[39m\u001b[39m\"\u001b[39m:\n\u001b[0;32m  10057\u001b[0m     correl \u001b[39m=\u001b[39m libalgos\u001b[39m.\u001b[39mnancorr(mat, minp\u001b[39m=\u001b[39mmin_periods)\n",
      "File \u001b[1;32mc:\\Users\\carlo\\AppData\\Local\\Programs\\Python\\Python311\\Lib\\site-packages\\pandas\\core\\frame.py:1838\u001b[0m, in \u001b[0;36mDataFrame.to_numpy\u001b[1;34m(self, dtype, copy, na_value)\u001b[0m\n\u001b[0;32m   1836\u001b[0m \u001b[39mif\u001b[39;00m dtype \u001b[39mis\u001b[39;00m \u001b[39mnot\u001b[39;00m \u001b[39mNone\u001b[39;00m:\n\u001b[0;32m   1837\u001b[0m     dtype \u001b[39m=\u001b[39m np\u001b[39m.\u001b[39mdtype(dtype)\n\u001b[1;32m-> 1838\u001b[0m result \u001b[39m=\u001b[39m \u001b[39mself\u001b[39;49m\u001b[39m.\u001b[39;49m_mgr\u001b[39m.\u001b[39;49mas_array(dtype\u001b[39m=\u001b[39;49mdtype, copy\u001b[39m=\u001b[39;49mcopy, na_value\u001b[39m=\u001b[39;49mna_value)\n\u001b[0;32m   1839\u001b[0m \u001b[39mif\u001b[39;00m result\u001b[39m.\u001b[39mdtype \u001b[39mis\u001b[39;00m \u001b[39mnot\u001b[39;00m dtype:\n\u001b[0;32m   1840\u001b[0m     result \u001b[39m=\u001b[39m np\u001b[39m.\u001b[39marray(result, dtype\u001b[39m=\u001b[39mdtype, copy\u001b[39m=\u001b[39m\u001b[39mFalse\u001b[39;00m)\n",
      "File \u001b[1;32mc:\\Users\\carlo\\AppData\\Local\\Programs\\Python\\Python311\\Lib\\site-packages\\pandas\\core\\internals\\managers.py:1732\u001b[0m, in \u001b[0;36mBlockManager.as_array\u001b[1;34m(self, dtype, copy, na_value)\u001b[0m\n\u001b[0;32m   1730\u001b[0m         arr\u001b[39m.\u001b[39mflags\u001b[39m.\u001b[39mwriteable \u001b[39m=\u001b[39m \u001b[39mFalse\u001b[39;00m\n\u001b[0;32m   1731\u001b[0m \u001b[39melse\u001b[39;00m:\n\u001b[1;32m-> 1732\u001b[0m     arr \u001b[39m=\u001b[39m \u001b[39mself\u001b[39;49m\u001b[39m.\u001b[39;49m_interleave(dtype\u001b[39m=\u001b[39;49mdtype, na_value\u001b[39m=\u001b[39;49mna_value)\n\u001b[0;32m   1733\u001b[0m     \u001b[39m# The underlying data was copied within _interleave, so no need\u001b[39;00m\n\u001b[0;32m   1734\u001b[0m     \u001b[39m# to further copy if copy=True or setting na_value\u001b[39;00m\n\u001b[0;32m   1736\u001b[0m \u001b[39mif\u001b[39;00m na_value \u001b[39mis\u001b[39;00m \u001b[39mnot\u001b[39;00m lib\u001b[39m.\u001b[39mno_default:\n",
      "File \u001b[1;32mc:\\Users\\carlo\\AppData\\Local\\Programs\\Python\\Python311\\Lib\\site-packages\\pandas\\core\\internals\\managers.py:1794\u001b[0m, in \u001b[0;36mBlockManager._interleave\u001b[1;34m(self, dtype, na_value)\u001b[0m\n\u001b[0;32m   1792\u001b[0m     \u001b[39melse\u001b[39;00m:\n\u001b[0;32m   1793\u001b[0m         arr \u001b[39m=\u001b[39m blk\u001b[39m.\u001b[39mget_values(dtype)\n\u001b[1;32m-> 1794\u001b[0m     result[rl\u001b[39m.\u001b[39;49mindexer] \u001b[39m=\u001b[39m arr\n\u001b[0;32m   1795\u001b[0m     itemmask[rl\u001b[39m.\u001b[39mindexer] \u001b[39m=\u001b[39m \u001b[39m1\u001b[39m\n\u001b[0;32m   1797\u001b[0m \u001b[39mif\u001b[39;00m \u001b[39mnot\u001b[39;00m itemmask\u001b[39m.\u001b[39mall():\n",
      "\u001b[1;31mValueError\u001b[0m: could not convert string to float: 'Juan'"
     ]
    }
   ],
   "source": [
    "df.corr()  # correlación"
   ]
  },
  {
   "cell_type": "code",
   "execution_count": 1,
   "metadata": {},
   "outputs": [
    {
     "name": "stdout",
     "output_type": "stream",
     "text": [
      "Collecting matplotlib\n",
      "  Downloading matplotlib-3.7.2-cp311-cp311-win_amd64.whl (7.5 MB)\n",
      "     ---------------------------------------- 7.5/7.5 MB 5.2 MB/s eta 0:00:00\n",
      "Collecting contourpy>=1.0.1\n",
      "  Downloading contourpy-1.1.0-cp311-cp311-win_amd64.whl (470 kB)\n",
      "     -------------------------------------- 470.9/470.9 kB 4.2 MB/s eta 0:00:00\n",
      "Collecting cycler>=0.10\n",
      "  Downloading cycler-0.11.0-py3-none-any.whl (6.4 kB)\n",
      "Collecting fonttools>=4.22.0\n",
      "  Downloading fonttools-4.41.0-cp311-cp311-win_amd64.whl (2.0 MB)\n",
      "     ---------------------------------------- 2.0/2.0 MB 5.9 MB/s eta 0:00:00\n",
      "Collecting kiwisolver>=1.0.1\n",
      "  Downloading kiwisolver-1.4.4-cp311-cp311-win_amd64.whl (55 kB)\n",
      "     ---------------------------------------- 55.4/55.4 kB ? eta 0:00:00\n",
      "Requirement already satisfied: numpy>=1.20 in c:\\users\\carlo\\appdata\\local\\programs\\python\\python311\\lib\\site-packages (from matplotlib) (1.25.0)\n",
      "Requirement already satisfied: packaging>=20.0 in c:\\users\\carlo\\appdata\\roaming\\python\\python311\\site-packages (from matplotlib) (23.1)\n",
      "Collecting pillow>=6.2.0\n",
      "  Downloading Pillow-10.0.0-cp311-cp311-win_amd64.whl (2.5 MB)\n",
      "     ---------------------------------------- 2.5/2.5 MB 6.2 MB/s eta 0:00:00\n",
      "Collecting pyparsing<3.1,>=2.3.1\n",
      "  Downloading pyparsing-3.0.9-py3-none-any.whl (98 kB)\n",
      "     ---------------------------------------- 98.3/98.3 kB 5.9 MB/s eta 0:00:00\n",
      "Requirement already satisfied: python-dateutil>=2.7 in c:\\users\\carlo\\appdata\\roaming\\python\\python311\\site-packages (from matplotlib) (2.8.2)\n",
      "Requirement already satisfied: six>=1.5 in c:\\users\\carlo\\appdata\\roaming\\python\\python311\\site-packages (from python-dateutil>=2.7->matplotlib) (1.16.0)\n",
      "Installing collected packages: pyparsing, pillow, kiwisolver, fonttools, cycler, contourpy, matplotlib\n",
      "Successfully installed contourpy-1.1.0 cycler-0.11.0 fonttools-4.41.0 kiwisolver-1.4.4 matplotlib-3.7.2 pillow-10.0.0 pyparsing-3.0.9\n",
      "Note: you may need to restart the kernel to use updated packages.\n"
     ]
    },
    {
     "name": "stderr",
     "output_type": "stream",
     "text": [
      "  WARNING: The scripts fonttools.exe, pyftmerge.exe, pyftsubset.exe and ttx.exe are installed in 'c:\\Users\\carlo\\AppData\\Local\\Programs\\Python\\Python311\\Scripts' which is not on PATH.\n",
      "  Consider adding this directory to PATH or, if you prefer to suppress this warning, use --no-warn-script-location.\n",
      "\n",
      "[notice] A new release of pip available: 22.3.1 -> 23.1.2\n",
      "[notice] To update, run: python.exe -m pip install --upgrade pip\n"
     ]
    }
   ],
   "source": [
    "pip install matplotlib"
   ]
  },
  {
   "cell_type": "code",
   "execution_count": 2,
   "metadata": {},
   "outputs": [],
   "source": [
    "import matplotlib as plt\n",
    "\n",
    "import matplotlib.pyplot as plt\n",
    "\n",
    "import numpy as np"
   ]
  },
  {
   "cell_type": "code",
   "execution_count": 3,
   "metadata": {},
   "outputs": [
    {
     "data": {
      "image/png": "[encoded data removed]",
      "text/plain": [
       "<Figure size 640x480 with 1 Axes>"
      ]
     },
     "metadata": {},
     "output_type": "display_data"
    }
   ],
   "source": [
    "puntos_x=np.array([0,4,8,16])\n",
    "\n",
    "puntos_y=np.array([6,12,24,48])\n",
    "\n",
    "plt.plot(puntos_x,puntos_y)\n",
    "\n",
    "plt.show()\n"
   ]
  },
  {
   "cell_type": "code",
   "execution_count": 4,
   "metadata": {},
   "outputs": [
    {
     "data": {
      "image/png": "[encoded data removed]",
      "text/plain": [
       "<Figure size 640x480 with 1 Axes>"
      ]
     },
     "metadata": {},
     "output_type": "display_data"
    }
   ],
   "source": [
    "x1= np.array([0,1,2,3])\n",
    "y1= np.array([3,8,1,10])\n",
    "x2= np.array([0,1,2,3])\n",
    "y2= np.array([6,2,7,11])\n",
    "\n",
    "plt.plot(x1,y1,x2,y2)\n",
    "\n",
    "plt.show()\n"
   ]
  },
  {
   "cell_type": "code",
   "execution_count": 5,
   "metadata": {},
   "outputs": [
    {
     "data": {
      "image/png": "[encoded data removed]",
      "text/plain": [
       "<Figure size 640x480 with 1 Axes>"
      ]
     },
     "metadata": {},
     "output_type": "display_data"
    }
   ],
   "source": [
    "y1= np.array([3,8,1,10])\n",
    "y2=np.array([6,2,7,11])\n",
    "plt.plot(y1)\n",
    "plt.plot(y2)\n",
    "plt.show()"
   ]
  },
  {
   "cell_type": "markdown",
   "metadata": {},
   "source": [
    "# FORMATO\n"
   ]
  },
  {
   "cell_type": "code",
   "execution_count": 6,
   "metadata": {},
   "outputs": [
    {
     "data": {
      "image/png": "[encoded data removed]",
      "text/plain": [
       "<Figure size 640x480 with 1 Axes>"
      ]
     },
     "metadata": {},
     "output_type": "display_data"
    }
   ],
   "source": [
    "puntos_y= np.array([6,12,24,48])\n",
    "\n",
    "plt.plot(puntos_y,\"o\")\n",
    "plt.show()"
   ]
  },
  {
   "cell_type": "code",
   "execution_count": 23,
   "metadata": {},
   "outputs": [
    {
     "data": {
      "image/png": "[encoded data removed]",
      "text/plain": [
       "<Figure size 640x480 with 1 Axes>"
      ]
     },
     "metadata": {},
     "output_type": "display_data"
    }
   ],
   "source": [
    "puntos_y= np.array([6,12,24,48])\n",
    "\n",
    "plt.plot(puntos_y,\"*\")\n",
    "plt.show()"
   ]
  },
  {
   "cell_type": "code",
   "execution_count": 25,
   "metadata": {},
   "outputs": [
    {
     "data": {
      "image/png": "[encoded data removed]",
      "text/plain": [
       "<Figure size 640x480 with 1 Axes>"
      ]
     },
     "metadata": {},
     "output_type": "display_data"
    }
   ],
   "source": [
    "plt.plot(puntos_x,puntos_y,\":\")\n",
    "\n",
    "plt.show()"
   ]
  },
  {
   "cell_type": "code",
   "execution_count": 29,
   "metadata": {},
   "outputs": [
    {
     "data": {
      "image/png": "[encoded data removed]",
      "text/plain": [
       "<Figure size 640x480 with 1 Axes>"
      ]
     },
     "metadata": {},
     "output_type": "display_data"
    }
   ],
   "source": [
    "plt.plot(puntos_x,puntos_y,\"r\")\n",
    "\n",
    "plt.show()"
   ]
  },
  {
   "cell_type": "code",
   "execution_count": 31,
   "metadata": {},
   "outputs": [
    {
     "data": {
      "image/png": "[encoded data removed]",
      "text/plain": [
       "<Figure size 640x480 with 1 Axes>"
      ]
     },
     "metadata": {},
     "output_type": "display_data"
    }
   ],
   "source": [
    "plt.plot(puntos_x,puntos_y,\"o-k\")\n",
    "\n",
    "plt.show()"
   ]
  },
  {
   "cell_type": "code",
   "execution_count": 32,
   "metadata": {},
   "outputs": [
    {
     "data": {
      "image/png": "[encoded data removed]",
      "text/plain": [
       "<Figure size 640x480 with 1 Axes>"
      ]
     },
     "metadata": {},
     "output_type": "display_data"
    }
   ],
   "source": [
    "plt.plot(puntos_x,puntos_y,\"p:g\")\n",
    "\n",
    "plt.show()"
   ]
  },
  {
   "cell_type": "code",
   "execution_count": 36,
   "metadata": {},
   "outputs": [
    {
     "data": {
      "image/png": "[encoded data removed]",
      "text/plain": [
       "<Figure size 640x480 with 1 Axes>"
      ]
     },
     "metadata": {},
     "output_type": "display_data"
    }
   ],
   "source": [
    "plt.plot(puntos_x,puntos_y,\"o--k\", ms=10, mec=\"r\", linewidth=\"12\")\n",
    "plt.show()"
   ]
  },
  {
   "cell_type": "markdown",
   "metadata": {},
   "source": [
    "# DESCRIPCIÓN"
   ]
  },
  {
   "cell_type": "code",
   "execution_count": 37,
   "metadata": {},
   "outputs": [
    {
     "data": {
      "image/png": "[encoded data removed]",
      "text/plain": [
       "<Figure size 640x480 with 1 Axes>"
      ]
     },
     "metadata": {},
     "output_type": "display_data"
    }
   ],
   "source": [
    "x = np.array([80,85,90,95,100,105,110,115,120,125])\n",
    "y = np.array([240,250,260,270,280,290,300,310,320,330])\n",
    "\n",
    "plt.plot(x,y)\n",
    "\n",
    "plt.title(\"ESTADÍSTICAS DEPORTIVAS\")\n",
    "plt.xlabel(\"PULSO PROMEDIO\")\n",
    "plt.ylabel(\"QUEMA DE CALORIAS\")\n",
    "plt.show()"
   ]
  },
  {
   "cell_type": "code",
   "execution_count": null,
   "metadata": {},
   "outputs": [],
   "source": [
    "plt.plot(x,y)\n",
    "\n",
    "font=()"
   ]
  }
 ],
 "metadata": {
  "kernelspec": {
   "display_name": "Python 3",
   "language": "python",
   "name": "python3"
  },
  "language_info": {
   "codemirror_mode": {
    "name": "ipython",
    "version": 3
   },
   "file_extension": ".py",
   "mimetype": "text/x-python",
   "name": "python",
   "nbconvert_exporter": "python",
   "pygments_lexer": "ipython3",
   "version": "3.11.3"
  },
  "orig_nbformat": 4
 },
 "nbformat": 4,
 "nbformat_minor": 2
}
